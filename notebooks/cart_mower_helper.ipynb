{
 "cells": [
  {
   "cell_type": "code",
   "execution_count": 76,
   "metadata": {
    "collapsed": true
   },
   "outputs": [],
   "source": [
    "import pandas as pd\n",
    "import seaborn as sns\n",
    "import BabsonAnalytics\n",
    "import numpy as np\n",
    "%matplotlib inline"
   ]
  },
  {
   "cell_type": "code",
   "execution_count": 77,
   "metadata": {
    "collapsed": false
   },
   "outputs": [
    {
     "data": {
      "text/html": [
       "<div>\n",
       "<table border=\"1\" class=\"dataframe\">\n",
       "  <thead>\n",
       "    <tr style=\"text-align: right;\">\n",
       "      <th></th>\n",
       "      <th>Income</th>\n",
       "      <th>Lot_Size</th>\n",
       "      <th>Owner</th>\n",
       "    </tr>\n",
       "  </thead>\n",
       "  <tbody>\n",
       "    <tr>\n",
       "      <th>0</th>\n",
       "      <td>60.0</td>\n",
       "      <td>18.4</td>\n",
       "      <td>1</td>\n",
       "    </tr>\n",
       "    <tr>\n",
       "      <th>1</th>\n",
       "      <td>85.5</td>\n",
       "      <td>16.8</td>\n",
       "      <td>1</td>\n",
       "    </tr>\n",
       "    <tr>\n",
       "      <th>2</th>\n",
       "      <td>64.8</td>\n",
       "      <td>21.6</td>\n",
       "      <td>1</td>\n",
       "    </tr>\n",
       "    <tr>\n",
       "      <th>3</th>\n",
       "      <td>61.5</td>\n",
       "      <td>20.8</td>\n",
       "      <td>1</td>\n",
       "    </tr>\n",
       "    <tr>\n",
       "      <th>4</th>\n",
       "      <td>87.0</td>\n",
       "      <td>23.6</td>\n",
       "      <td>1</td>\n",
       "    </tr>\n",
       "  </tbody>\n",
       "</table>\n",
       "</div>"
      ],
      "text/plain": [
       "   Income  Lot_Size  Owner\n",
       "0    60.0      18.4      1\n",
       "1    85.5      16.8      1\n",
       "2    64.8      21.6      1\n",
       "3    61.5      20.8      1\n",
       "4    87.0      23.6      1"
      ]
     },
     "execution_count": 77,
     "metadata": {},
     "output_type": "execute_result"
    }
   ],
   "source": [
    "df = pd.read_csv('../data/RidingMowers.csv')\n",
    "df.head()"
   ]
  },
  {
   "cell_type": "code",
   "execution_count": 84,
   "metadata": {
    "collapsed": true
   },
   "outputs": [],
   "source": [
    "df.Owner = df.Owner.astype(\"category\")"
   ]
  },
  {
   "cell_type": "code",
   "execution_count": 112,
   "metadata": {
    "collapsed": false
   },
   "outputs": [
    {
     "data": {
      "image/png": "[encoded data removed]",
      "text/plain": [
       "<matplotlib.figure.Figure at 0x119130550>"
      ]
     },
     "metadata": {},
     "output_type": "display_data"
    }
   ],
   "source": [
    "import seaborn as sns\n",
    "\n",
    "col_list = [\"orange\", \"blue\"]\n",
    "col_list_palette = sns.xkcd_palette(col_list)\n",
    "sns.set_palette(col_list_palette)\n",
    "sns.lmplot('Income','Lot_Size',\n",
    "           data=df,\n",
    "           fit_reg=False,\n",
    "           hue='Owner', \n",
    "           markers = ['o','s'],\n",
    "           scatter_kws={\"s\": 100})\n",
    "\n",
    "plt.savefig('../figures/tree_0.pdf')\n",
    "\n",
    "plt.plot([59.7, 59.7],[12,26],'k')\n",
    "plt.ylim((12,26))\n",
    "plt.savefig('../figures/tree_1.pdf')\n",
    "\n",
    "plt.plot([20,59.7],[21.4, 21.4],'k')\n",
    "plt.xlim((20,120))\n",
    "plt.savefig('../figures/tree_2.pdf')\n",
    "\n",
    "plt.plot([59.7,120],[19.8, 19.8],'k')\n",
    "plt.xlim((20,120))\n",
    "plt.savefig('../figures/tree_3.pdf')\n",
    "\n",
    "plt.plot([59.7,120],[19.8, 19.8],'k')\n",
    "plt.xlim((20,120))\n",
    "plt.savefig('../figures/tree_3.pdf')\n",
    "\n",
    "plt.plot([84.75, 84.75],[12, 19.8],'k')\n",
    "plt.xlim((20,120))\n",
    "plt.savefig('../figures/tree_4.pdf')\n",
    "\n",
    "plt.plot([61.5, 61.5],[12, 19.8],'k')\n",
    "plt.xlim((20,120))\n",
    "plt.savefig('../figures/tree_5.pdf')\n",
    "\n",
    "\n",
    "plt.plot(70,15,'ko')\n",
    "plt.savefig('../figures/tree_test.pdf')"
   ]
  },
  {
   "cell_type": "code",
   "execution_count": 72,
   "metadata": {
    "collapsed": false
   },
   "outputs": [
    {
     "data": {
      "text/plain": [
       "DecisionTreeClassifier(class_weight=None, criterion='gini', max_depth=None,\n",
       "            max_features=None, max_leaf_nodes=None, min_samples_leaf=1,\n",
       "            min_samples_split=2, min_weight_fraction_leaf=0.0,\n",
       "            presort=False, random_state=None, splitter='best')"
      ]
     },
     "execution_count": 72,
     "metadata": {},
     "output_type": "execute_result"
    }
   ],
   "source": [
    "from sklearn import tree\n",
    "model = tree.DecisionTreeClassifier()\n",
    "model.fit(df.drop('Owner',axis=1),df.Owner)"
   ]
  },
  {
   "cell_type": "code",
   "execution_count": 81,
   "metadata": {
    "collapsed": false
   },
   "outputs": [
    {
     "data": {
      "image/svg+xml": [
       "<?xml version=\"1.0\" encoding=\"UTF-8\" standalone=\"no\"?>\n",
       "<!DOCTYPE svg PUBLIC \"-//W3C//DTD SVG 1.1//EN\"\n",
       " \"http://www.w3.org/Graphics/SVG/1.1/DTD/svg11.dtd\">\n",
       "<!-- Generated by graphviz version 2.40.1 (20161225.0304)\n",
       " -->\n",
       "<!-- Title: Tree Pages: 1 -->\n",
       "<svg width=\"480pt\" height=\"458pt\"\n",
       " viewBox=\"0.00 0.00 479.55 458.00\" xmlns=\"http://www.w3.org/2000/svg\" xmlns:xlink=\"http://www.w3.org/1999/xlink\">\n",
       "<g id=\"graph0\" class=\"graph\" transform=\"scale(1 1) rotate(0) translate(4 454)\">\n",
       "<title>Tree</title>\n",
       "<polygon fill=\"#ffffff\" stroke=\"transparent\" points=\"-4,4 -4,-454 475.5547,-454 475.5547,4 -4,4\"/>\n",
       "<!-- 0 -->\n",
       "<g id=\"node1\" class=\"node\">\n",
       "<title>0</title>\n",
       "<path fill=\"transparent\" stroke=\"#000000\" d=\"M274.0668,-450C274.0668,-450 184.4879,-450 184.4879,-450 178.4879,-450 172.4879,-444 172.4879,-438 172.4879,-438 172.4879,-398 172.4879,-398 172.4879,-392 178.4879,-386 184.4879,-386 184.4879,-386 274.0668,-386 274.0668,-386 280.0668,-386 286.0668,-392 286.0668,-398 286.0668,-398 286.0668,-438 286.0668,-438 286.0668,-444 280.0668,-450 274.0668,-450\"/>\n",
       "<text text-anchor=\"middle\" x=\"229.2773\" y=\"-434.8\" font-family=\"Helvetica,sans-Serif\" font-size=\"14.00\" fill=\"#000000\">Income &lt;= 59.7</text>\n",
       "<text text-anchor=\"middle\" x=\"229.2773\" y=\"-420.8\" font-family=\"Helvetica,sans-Serif\" font-size=\"14.00\" fill=\"#000000\">gini = 0.5</text>\n",
       "<text text-anchor=\"middle\" x=\"229.2773\" y=\"-406.8\" font-family=\"Helvetica,sans-Serif\" font-size=\"14.00\" fill=\"#000000\">samples = 24</text>\n",
       "<text text-anchor=\"middle\" x=\"229.2773\" y=\"-392.8\" font-family=\"Helvetica,sans-Serif\" font-size=\"14.00\" fill=\"#000000\">value = [12, 12]</text>\n",
       "</g>\n",
       "<!-- 1 -->\n",
       "<g id=\"node2\" class=\"node\">\n",
       "<title>1</title>\n",
       "<path fill=\"#e58139\" fill-opacity=\"0.858824\" stroke=\"#000000\" d=\"M208.1388,-350C208.1388,-350 110.4159,-350 110.4159,-350 104.4159,-350 98.4159,-344 98.4159,-338 98.4159,-338 98.4159,-298 98.4159,-298 98.4159,-292 104.4159,-286 110.4159,-286 110.4159,-286 208.1388,-286 208.1388,-286 214.1388,-286 220.1388,-292 220.1388,-298 220.1388,-298 220.1388,-338 220.1388,-338 220.1388,-344 214.1388,-350 208.1388,-350\"/>\n",
       "<text text-anchor=\"middle\" x=\"159.2773\" y=\"-334.8\" font-family=\"Helvetica,sans-Serif\" font-size=\"14.00\" fill=\"#000000\">Lot_Size &lt;= 21.4</text>\n",
       "<text text-anchor=\"middle\" x=\"159.2773\" y=\"-320.8\" font-family=\"Helvetica,sans-Serif\" font-size=\"14.00\" fill=\"#000000\">gini = 0.2188</text>\n",
       "<text text-anchor=\"middle\" x=\"159.2773\" y=\"-306.8\" font-family=\"Helvetica,sans-Serif\" font-size=\"14.00\" fill=\"#000000\">samples = 8</text>\n",
       "<text text-anchor=\"middle\" x=\"159.2773\" y=\"-292.8\" font-family=\"Helvetica,sans-Serif\" font-size=\"14.00\" fill=\"#000000\">value = [7, 1]</text>\n",
       "</g>\n",
       "<!-- 0&#45;&gt;1 -->\n",
       "<g id=\"edge1\" class=\"edge\">\n",
       "<title>0&#45;&gt;1</title>\n",
       "<path fill=\"none\" stroke=\"#000000\" d=\"M206.7436,-385.8089C200.6236,-377.0661 193.9187,-367.4876 187.5261,-358.3553\"/>\n",
       "<polygon fill=\"#000000\" stroke=\"#000000\" points=\"190.3709,-356.316 181.7689,-350.1308 184.6362,-360.3302 190.3709,-356.316\"/>\n",
       "<text text-anchor=\"middle\" x=\"177.4242\" y=\"-370.5503\" font-family=\"Helvetica,sans-Serif\" font-size=\"14.00\" fill=\"#000000\">True</text>\n",
       "</g>\n",
       "<!-- 4 -->\n",
       "<g id=\"node5\" class=\"node\">\n",
       "<title>4</title>\n",
       "<path fill=\"#399de5\" fill-opacity=\"0.545098\" stroke=\"#000000\" d=\"M348.1388,-350C348.1388,-350 250.4159,-350 250.4159,-350 244.4159,-350 238.4159,-344 238.4159,-338 238.4159,-338 238.4159,-298 238.4159,-298 238.4159,-292 244.4159,-286 250.4159,-286 250.4159,-286 348.1388,-286 348.1388,-286 354.1388,-286 360.1388,-292 360.1388,-298 360.1388,-298 360.1388,-338 360.1388,-338 360.1388,-344 354.1388,-350 348.1388,-350\"/>\n",
       "<text text-anchor=\"middle\" x=\"299.2773\" y=\"-334.8\" font-family=\"Helvetica,sans-Serif\" font-size=\"14.00\" fill=\"#000000\">Lot_Size &lt;= 19.8</text>\n",
       "<text text-anchor=\"middle\" x=\"299.2773\" y=\"-320.8\" font-family=\"Helvetica,sans-Serif\" font-size=\"14.00\" fill=\"#000000\">gini = 0.4297</text>\n",
       "<text text-anchor=\"middle\" x=\"299.2773\" y=\"-306.8\" font-family=\"Helvetica,sans-Serif\" font-size=\"14.00\" fill=\"#000000\">samples = 16</text>\n",
       "<text text-anchor=\"middle\" x=\"299.2773\" y=\"-292.8\" font-family=\"Helvetica,sans-Serif\" font-size=\"14.00\" fill=\"#000000\">value = [5, 11]</text>\n",
       "</g>\n",
       "<!-- 0&#45;&gt;4 -->\n",
       "<g id=\"edge4\" class=\"edge\">\n",
       "<title>0&#45;&gt;4</title>\n",
       "<path fill=\"none\" stroke=\"#000000\" d=\"M251.8111,-385.8089C257.9311,-377.0661 264.636,-367.4876 271.0286,-358.3553\"/>\n",
       "<polygon fill=\"#000000\" stroke=\"#000000\" points=\"273.9185,-360.3302 276.7858,-350.1308 268.1838,-356.316 273.9185,-360.3302\"/>\n",
       "<text text-anchor=\"middle\" x=\"281.1304\" y=\"-370.5503\" font-family=\"Helvetica,sans-Serif\" font-size=\"14.00\" fill=\"#000000\">False</text>\n",
       "</g>\n",
       "<!-- 2 -->\n",
       "<g id=\"node3\" class=\"node\">\n",
       "<title>2</title>\n",
       "<path fill=\"#e58139\" stroke=\"#000000\" d=\"M84.3331,-243C84.3331,-243 12.2216,-243 12.2216,-243 6.2216,-243 .2216,-237 .2216,-231 .2216,-231 .2216,-205 .2216,-205 .2216,-199 6.2216,-193 12.2216,-193 12.2216,-193 84.3331,-193 84.3331,-193 90.3331,-193 96.3331,-199 96.3331,-205 96.3331,-205 96.3331,-231 96.3331,-231 96.3331,-237 90.3331,-243 84.3331,-243\"/>\n",
       "<text text-anchor=\"middle\" x=\"48.2773\" y=\"-227.8\" font-family=\"Helvetica,sans-Serif\" font-size=\"14.00\" fill=\"#000000\">gini = 0.0</text>\n",
       "<text text-anchor=\"middle\" x=\"48.2773\" y=\"-213.8\" font-family=\"Helvetica,sans-Serif\" font-size=\"14.00\" fill=\"#000000\">samples = 7</text>\n",
       "<text text-anchor=\"middle\" x=\"48.2773\" y=\"-199.8\" font-family=\"Helvetica,sans-Serif\" font-size=\"14.00\" fill=\"#000000\">value = [7, 0]</text>\n",
       "</g>\n",
       "<!-- 1&#45;&gt;2 -->\n",
       "<g id=\"edge2\" class=\"edge\">\n",
       "<title>1&#45;&gt;2</title>\n",
       "<path fill=\"none\" stroke=\"#000000\" d=\"M123.5453,-285.8089C110.8442,-274.3665 96.5543,-261.4928 83.8653,-250.0612\"/>\n",
       "<polygon fill=\"#000000\" stroke=\"#000000\" points=\"85.9723,-247.2485 76.2,-243.1555 81.287,-252.4493 85.9723,-247.2485\"/>\n",
       "</g>\n",
       "<!-- 3 -->\n",
       "<g id=\"node4\" class=\"node\">\n",
       "<title>3</title>\n",
       "<path fill=\"#399de5\" stroke=\"#000000\" d=\"M199.3331,-243C199.3331,-243 127.2216,-243 127.2216,-243 121.2216,-243 115.2216,-237 115.2216,-231 115.2216,-231 115.2216,-205 115.2216,-205 115.2216,-199 121.2216,-193 127.2216,-193 127.2216,-193 199.3331,-193 199.3331,-193 205.3331,-193 211.3331,-199 211.3331,-205 211.3331,-205 211.3331,-231 211.3331,-231 211.3331,-237 205.3331,-243 199.3331,-243\"/>\n",
       "<text text-anchor=\"middle\" x=\"163.2773\" y=\"-227.8\" font-family=\"Helvetica,sans-Serif\" font-size=\"14.00\" fill=\"#000000\">gini = 0.0</text>\n",
       "<text text-anchor=\"middle\" x=\"163.2773\" y=\"-213.8\" font-family=\"Helvetica,sans-Serif\" font-size=\"14.00\" fill=\"#000000\">samples = 1</text>\n",
       "<text text-anchor=\"middle\" x=\"163.2773\" y=\"-199.8\" font-family=\"Helvetica,sans-Serif\" font-size=\"14.00\" fill=\"#000000\">value = [0, 1]</text>\n",
       "</g>\n",
       "<!-- 1&#45;&gt;3 -->\n",
       "<g id=\"edge3\" class=\"edge\">\n",
       "<title>1&#45;&gt;3</title>\n",
       "<path fill=\"none\" stroke=\"#000000\" d=\"M160.565,-285.8089C160.9795,-275.446 161.441,-263.909 161.864,-253.3327\"/>\n",
       "<polygon fill=\"#000000\" stroke=\"#000000\" points=\"165.3686,-253.2875 162.2711,-243.1555 158.3741,-253.0076 165.3686,-253.2875\"/>\n",
       "</g>\n",
       "<!-- 5 -->\n",
       "<g id=\"node6\" class=\"node\">\n",
       "<title>5</title>\n",
       "<path fill=\"#e58139\" fill-opacity=\"0.200000\" stroke=\"#000000\" d=\"M344.8526,-250C344.8526,-250 247.7021,-250 247.7021,-250 241.7021,-250 235.7021,-244 235.7021,-238 235.7021,-238 235.7021,-198 235.7021,-198 235.7021,-192 241.7021,-186 247.7021,-186 247.7021,-186 344.8526,-186 344.8526,-186 350.8526,-186 356.8526,-192 356.8526,-198 356.8526,-198 356.8526,-238 356.8526,-238 356.8526,-244 350.8526,-250 344.8526,-250\"/>\n",
       "<text text-anchor=\"middle\" x=\"296.2773\" y=\"-234.8\" font-family=\"Helvetica,sans-Serif\" font-size=\"14.00\" fill=\"#000000\">Income &lt;= 84.75</text>\n",
       "<text text-anchor=\"middle\" x=\"296.2773\" y=\"-220.8\" font-family=\"Helvetica,sans-Serif\" font-size=\"14.00\" fill=\"#000000\">gini = 0.4938</text>\n",
       "<text text-anchor=\"middle\" x=\"296.2773\" y=\"-206.8\" font-family=\"Helvetica,sans-Serif\" font-size=\"14.00\" fill=\"#000000\">samples = 9</text>\n",
       "<text text-anchor=\"middle\" x=\"296.2773\" y=\"-192.8\" font-family=\"Helvetica,sans-Serif\" font-size=\"14.00\" fill=\"#000000\">value = [5, 4]</text>\n",
       "</g>\n",
       "<!-- 4&#45;&gt;5 -->\n",
       "<g id=\"edge5\" class=\"edge\">\n",
       "<title>4&#45;&gt;5</title>\n",
       "<path fill=\"none\" stroke=\"#000000\" d=\"M298.3116,-285.8089C298.0681,-277.6906 297.8029,-268.8517 297.5469,-260.3186\"/>\n",
       "<polygon fill=\"#000000\" stroke=\"#000000\" points=\"301.0397,-260.0213 297.2413,-250.1308 294.0428,-260.2312 301.0397,-260.0213\"/>\n",
       "</g>\n",
       "<!-- 10 -->\n",
       "<g id=\"node11\" class=\"node\">\n",
       "<title>10</title>\n",
       "<path fill=\"#399de5\" stroke=\"#000000\" d=\"M459.3331,-243C459.3331,-243 387.2216,-243 387.2216,-243 381.2216,-243 375.2216,-237 375.2216,-231 375.2216,-231 375.2216,-205 375.2216,-205 375.2216,-199 381.2216,-193 387.2216,-193 387.2216,-193 459.3331,-193 459.3331,-193 465.3331,-193 471.3331,-199 471.3331,-205 471.3331,-205 471.3331,-231 471.3331,-231 471.3331,-237 465.3331,-243 459.3331,-243\"/>\n",
       "<text text-anchor=\"middle\" x=\"423.2773\" y=\"-227.8\" font-family=\"Helvetica,sans-Serif\" font-size=\"14.00\" fill=\"#000000\">gini = 0.0</text>\n",
       "<text text-anchor=\"middle\" x=\"423.2773\" y=\"-213.8\" font-family=\"Helvetica,sans-Serif\" font-size=\"14.00\" fill=\"#000000\">samples = 7</text>\n",
       "<text text-anchor=\"middle\" x=\"423.2773\" y=\"-199.8\" font-family=\"Helvetica,sans-Serif\" font-size=\"14.00\" fill=\"#000000\">value = [0, 7]</text>\n",
       "</g>\n",
       "<!-- 4&#45;&gt;10 -->\n",
       "<g id=\"edge10\" class=\"edge\">\n",
       "<title>4&#45;&gt;10</title>\n",
       "<path fill=\"none\" stroke=\"#000000\" d=\"M339.1943,-285.8089C353.5167,-274.2586 369.6477,-261.2497 383.9221,-249.7381\"/>\n",
       "<polygon fill=\"#000000\" stroke=\"#000000\" points=\"386.4975,-252.1576 392.0845,-243.1555 382.1032,-246.7086 386.4975,-252.1576\"/>\n",
       "</g>\n",
       "<!-- 6 -->\n",
       "<g id=\"node7\" class=\"node\">\n",
       "<title>6</title>\n",
       "<path fill=\"#e58139\" fill-opacity=\"0.800000\" stroke=\"#000000\" d=\"M279.0668,-150C279.0668,-150 189.4879,-150 189.4879,-150 183.4879,-150 177.4879,-144 177.4879,-138 177.4879,-138 177.4879,-98 177.4879,-98 177.4879,-92 183.4879,-86 189.4879,-86 189.4879,-86 279.0668,-86 279.0668,-86 285.0668,-86 291.0668,-92 291.0668,-98 291.0668,-98 291.0668,-138 291.0668,-138 291.0668,-144 285.0668,-150 279.0668,-150\"/>\n",
       "<text text-anchor=\"middle\" x=\"234.2773\" y=\"-134.8\" font-family=\"Helvetica,sans-Serif\" font-size=\"14.00\" fill=\"#000000\">Income &lt;= 61.5</text>\n",
       "<text text-anchor=\"middle\" x=\"234.2773\" y=\"-120.8\" font-family=\"Helvetica,sans-Serif\" font-size=\"14.00\" fill=\"#000000\">gini = 0.2778</text>\n",
       "<text text-anchor=\"middle\" x=\"234.2773\" y=\"-106.8\" font-family=\"Helvetica,sans-Serif\" font-size=\"14.00\" fill=\"#000000\">samples = 6</text>\n",
       "<text text-anchor=\"middle\" x=\"234.2773\" y=\"-92.8\" font-family=\"Helvetica,sans-Serif\" font-size=\"14.00\" fill=\"#000000\">value = [5, 1]</text>\n",
       "</g>\n",
       "<!-- 5&#45;&gt;6 -->\n",
       "<g id=\"edge6\" class=\"edge\">\n",
       "<title>5&#45;&gt;6</title>\n",
       "<path fill=\"none\" stroke=\"#000000\" d=\"M276.3189,-185.8089C270.9536,-177.1553 265.0808,-167.683 259.4711,-158.635\"/>\n",
       "<polygon fill=\"#000000\" stroke=\"#000000\" points=\"262.4425,-156.7855 254.1984,-150.1308 256.4932,-160.4741 262.4425,-156.7855\"/>\n",
       "</g>\n",
       "<!-- 9 -->\n",
       "<g id=\"node10\" class=\"node\">\n",
       "<title>9</title>\n",
       "<path fill=\"#399de5\" stroke=\"#000000\" d=\"M393.3331,-143C393.3331,-143 321.2216,-143 321.2216,-143 315.2216,-143 309.2216,-137 309.2216,-131 309.2216,-131 309.2216,-105 309.2216,-105 309.2216,-99 315.2216,-93 321.2216,-93 321.2216,-93 393.3331,-93 393.3331,-93 399.3331,-93 405.3331,-99 405.3331,-105 405.3331,-105 405.3331,-131 405.3331,-131 405.3331,-137 399.3331,-143 393.3331,-143\"/>\n",
       "<text text-anchor=\"middle\" x=\"357.2773\" y=\"-127.8\" font-family=\"Helvetica,sans-Serif\" font-size=\"14.00\" fill=\"#000000\">gini = 0.0</text>\n",
       "<text text-anchor=\"middle\" x=\"357.2773\" y=\"-113.8\" font-family=\"Helvetica,sans-Serif\" font-size=\"14.00\" fill=\"#000000\">samples = 3</text>\n",
       "<text text-anchor=\"middle\" x=\"357.2773\" y=\"-99.8\" font-family=\"Helvetica,sans-Serif\" font-size=\"14.00\" fill=\"#000000\">value = [0, 3]</text>\n",
       "</g>\n",
       "<!-- 5&#45;&gt;9 -->\n",
       "<g id=\"edge9\" class=\"edge\">\n",
       "<title>5&#45;&gt;9</title>\n",
       "<path fill=\"none\" stroke=\"#000000\" d=\"M315.9139,-185.8089C322.4987,-175.0142 329.8605,-162.9456 336.5277,-152.0158\"/>\n",
       "<polygon fill=\"#000000\" stroke=\"#000000\" points=\"339.7128,-153.5153 341.9325,-143.1555 333.7369,-149.8699 339.7128,-153.5153\"/>\n",
       "</g>\n",
       "<!-- 7 -->\n",
       "<g id=\"node8\" class=\"node\">\n",
       "<title>7</title>\n",
       "<path fill=\"#399de5\" stroke=\"#000000\" d=\"M213.3331,-50C213.3331,-50 141.2216,-50 141.2216,-50 135.2216,-50 129.2216,-44 129.2216,-38 129.2216,-38 129.2216,-12 129.2216,-12 129.2216,-6 135.2216,0 141.2216,0 141.2216,0 213.3331,0 213.3331,0 219.3331,0 225.3331,-6 225.3331,-12 225.3331,-12 225.3331,-38 225.3331,-38 225.3331,-44 219.3331,-50 213.3331,-50\"/>\n",
       "<text text-anchor=\"middle\" x=\"177.2773\" y=\"-34.8\" font-family=\"Helvetica,sans-Serif\" font-size=\"14.00\" fill=\"#000000\">gini = 0.0</text>\n",
       "<text text-anchor=\"middle\" x=\"177.2773\" y=\"-20.8\" font-family=\"Helvetica,sans-Serif\" font-size=\"14.00\" fill=\"#000000\">samples = 1</text>\n",
       "<text text-anchor=\"middle\" x=\"177.2773\" y=\"-6.8\" font-family=\"Helvetica,sans-Serif\" font-size=\"14.00\" fill=\"#000000\">value = [0, 1]</text>\n",
       "</g>\n",
       "<!-- 6&#45;&gt;7 -->\n",
       "<g id=\"edge7\" class=\"edge\">\n",
       "<title>6&#45;&gt;7</title>\n",
       "<path fill=\"none\" stroke=\"#000000\" d=\"M214.6612,-85.9947C209.251,-77.1676 203.3663,-67.5662 197.901,-58.6491\"/>\n",
       "<polygon fill=\"#000000\" stroke=\"#000000\" points=\"200.8183,-56.7111 192.6085,-50.014 194.8501,-60.369 200.8183,-56.7111\"/>\n",
       "</g>\n",
       "<!-- 8 -->\n",
       "<g id=\"node9\" class=\"node\">\n",
       "<title>8</title>\n",
       "<path fill=\"#e58139\" stroke=\"#000000\" d=\"M328.3331,-50C328.3331,-50 256.2216,-50 256.2216,-50 250.2216,-50 244.2216,-44 244.2216,-38 244.2216,-38 244.2216,-12 244.2216,-12 244.2216,-6 250.2216,0 256.2216,0 256.2216,0 328.3331,0 328.3331,0 334.3331,0 340.3331,-6 340.3331,-12 340.3331,-12 340.3331,-38 340.3331,-38 340.3331,-44 334.3331,-50 328.3331,-50\"/>\n",
       "<text text-anchor=\"middle\" x=\"292.2773\" y=\"-34.8\" font-family=\"Helvetica,sans-Serif\" font-size=\"14.00\" fill=\"#000000\">gini = 0.0</text>\n",
       "<text text-anchor=\"middle\" x=\"292.2773\" y=\"-20.8\" font-family=\"Helvetica,sans-Serif\" font-size=\"14.00\" fill=\"#000000\">samples = 5</text>\n",
       "<text text-anchor=\"middle\" x=\"292.2773\" y=\"-6.8\" font-family=\"Helvetica,sans-Serif\" font-size=\"14.00\" fill=\"#000000\">value = [5, 0]</text>\n",
       "</g>\n",
       "<!-- 6&#45;&gt;8 -->\n",
       "<g id=\"edge8\" class=\"edge\">\n",
       "<title>6&#45;&gt;8</title>\n",
       "<path fill=\"none\" stroke=\"#000000\" d=\"M254.2377,-85.9947C259.7427,-77.1676 265.7307,-67.5662 271.2919,-58.6491\"/>\n",
       "<polygon fill=\"#000000\" stroke=\"#000000\" points=\"274.3552,-60.3513 276.6772,-50.014 268.4156,-56.647 274.3552,-60.3513\"/>\n",
       "</g>\n",
       "</g>\n",
       "</svg>\n"
      ],
      "text/plain": [
       "<graphviz.files.Source at 0x1198f8630>"
      ]
     },
     "execution_count": 81,
     "metadata": {},
     "output_type": "execute_result"
    }
   ],
   "source": [
    "from sklearn.tree import export_graphviz\n",
    "import graphviz\n",
    "\n",
    "export_graphviz(model, out_file=\"mytree.dot\",feature_names=train.columns,filled=True,rounded=True)\n",
    "with open(\"mytree.dot\") as f:\n",
    "    dot_graph = f.read()\n",
    "graphviz.Source(dot_graph)"
   ]
  },
  {
   "cell_type": "code",
   "execution_count": null,
   "metadata": {
    "collapsed": true
   },
   "outputs": [],
   "source": []
  }
 ],
 "metadata": {
  "kernelspec": {
   "display_name": "Python [default]",
   "language": "python",
   "name": "python3"
  },
  "language_info": {
   "codemirror_mode": {
    "name": "ipython",
    "version": 3
   },
   "file_extension": ".py",
   "mimetype": "text/x-python",
   "name": "python",
   "nbconvert_exporter": "python",
   "pygments_lexer": "ipython3",
   "version": "3.5.2"
  }
 },
 "nbformat": 4,
 "nbformat_minor": 1
}
