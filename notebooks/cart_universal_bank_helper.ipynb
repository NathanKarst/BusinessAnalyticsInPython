{
 "cells": [
  {
   "cell_type": "code",
   "execution_count": 1,
   "metadata": {
    "collapsed": true
   },
   "outputs": [],
   "source": [
    "import pandas as pd\n",
    "import seaborn as sns\n",
    "import BabsonAnalytics\n",
    "import numpy as np\n",
    "%matplotlib inline"
   ]
  },
  {
   "cell_type": "code",
   "execution_count": 2,
   "metadata": {
    "collapsed": false
   },
   "outputs": [
    {
     "data": {
      "text/html": [
       "<div>\n",
       "<style>\n",
       "    .dataframe thead tr:only-child th {\n",
       "        text-align: right;\n",
       "    }\n",
       "\n",
       "    .dataframe thead th {\n",
       "        text-align: left;\n",
       "    }\n",
       "\n",
       "    .dataframe tbody tr th {\n",
       "        vertical-align: top;\n",
       "    }\n",
       "</style>\n",
       "<table border=\"1\" class=\"dataframe\">\n",
       "  <thead>\n",
       "    <tr style=\"text-align: right;\">\n",
       "      <th></th>\n",
       "      <th>ID</th>\n",
       "      <th>Age</th>\n",
       "      <th>Experience</th>\n",
       "      <th>Income</th>\n",
       "      <th>ZIP Code</th>\n",
       "      <th>Family</th>\n",
       "      <th>CCAvg</th>\n",
       "      <th>Education</th>\n",
       "      <th>Mortgage</th>\n",
       "      <th>Personal Loan</th>\n",
       "      <th>Securities Account</th>\n",
       "      <th>CD Account</th>\n",
       "      <th>Online</th>\n",
       "      <th>CreditCard</th>\n",
       "    </tr>\n",
       "  </thead>\n",
       "  <tbody>\n",
       "    <tr>\n",
       "      <th>0</th>\n",
       "      <td>1</td>\n",
       "      <td>25</td>\n",
       "      <td>1</td>\n",
       "      <td>49</td>\n",
       "      <td>91107</td>\n",
       "      <td>4</td>\n",
       "      <td>1.6</td>\n",
       "      <td>1</td>\n",
       "      <td>0</td>\n",
       "      <td>0</td>\n",
       "      <td>1</td>\n",
       "      <td>0</td>\n",
       "      <td>0</td>\n",
       "      <td>0</td>\n",
       "    </tr>\n",
       "    <tr>\n",
       "      <th>1</th>\n",
       "      <td>2</td>\n",
       "      <td>45</td>\n",
       "      <td>19</td>\n",
       "      <td>34</td>\n",
       "      <td>90089</td>\n",
       "      <td>3</td>\n",
       "      <td>1.5</td>\n",
       "      <td>1</td>\n",
       "      <td>0</td>\n",
       "      <td>0</td>\n",
       "      <td>1</td>\n",
       "      <td>0</td>\n",
       "      <td>0</td>\n",
       "      <td>0</td>\n",
       "    </tr>\n",
       "    <tr>\n",
       "      <th>2</th>\n",
       "      <td>3</td>\n",
       "      <td>39</td>\n",
       "      <td>15</td>\n",
       "      <td>11</td>\n",
       "      <td>94720</td>\n",
       "      <td>1</td>\n",
       "      <td>1.0</td>\n",
       "      <td>1</td>\n",
       "      <td>0</td>\n",
       "      <td>0</td>\n",
       "      <td>0</td>\n",
       "      <td>0</td>\n",
       "      <td>0</td>\n",
       "      <td>0</td>\n",
       "    </tr>\n",
       "    <tr>\n",
       "      <th>3</th>\n",
       "      <td>4</td>\n",
       "      <td>35</td>\n",
       "      <td>9</td>\n",
       "      <td>100</td>\n",
       "      <td>94112</td>\n",
       "      <td>1</td>\n",
       "      <td>2.7</td>\n",
       "      <td>2</td>\n",
       "      <td>0</td>\n",
       "      <td>0</td>\n",
       "      <td>0</td>\n",
       "      <td>0</td>\n",
       "      <td>0</td>\n",
       "      <td>0</td>\n",
       "    </tr>\n",
       "    <tr>\n",
       "      <th>4</th>\n",
       "      <td>5</td>\n",
       "      <td>35</td>\n",
       "      <td>8</td>\n",
       "      <td>45</td>\n",
       "      <td>91330</td>\n",
       "      <td>4</td>\n",
       "      <td>1.0</td>\n",
       "      <td>2</td>\n",
       "      <td>0</td>\n",
       "      <td>0</td>\n",
       "      <td>0</td>\n",
       "      <td>0</td>\n",
       "      <td>0</td>\n",
       "      <td>1</td>\n",
       "    </tr>\n",
       "  </tbody>\n",
       "</table>\n",
       "</div>"
      ],
      "text/plain": [
       "   ID  Age  Experience  Income  ZIP Code  Family  CCAvg  Education  Mortgage  \\\n",
       "0   1   25           1      49     91107       4    1.6          1         0   \n",
       "1   2   45          19      34     90089       3    1.5          1         0   \n",
       "2   3   39          15      11     94720       1    1.0          1         0   \n",
       "3   4   35           9     100     94112       1    2.7          2         0   \n",
       "4   5   35           8      45     91330       4    1.0          2         0   \n",
       "\n",
       "   Personal Loan  Securities Account  CD Account  Online  CreditCard  \n",
       "0              0                   1           0       0           0  \n",
       "1              0                   1           0       0           0  \n",
       "2              0                   0           0       0           0  \n",
       "3              0                   0           0       0           0  \n",
       "4              0                   0           0       0           1  "
      ]
     },
     "execution_count": 2,
     "metadata": {},
     "output_type": "execute_result"
    }
   ],
   "source": [
    "df = pd.read_csv('../data/UniversalBank.csv')\n",
    "df.head()"
   ]
  },
  {
   "cell_type": "code",
   "execution_count": 3,
   "metadata": {
    "collapsed": false
   },
   "outputs": [],
   "source": [
    "df = df[['Family','Income','Personal Loan']]"
   ]
  },
  {
   "cell_type": "code",
   "execution_count": 16,
   "metadata": {
    "collapsed": false
   },
   "outputs": [
    {
     "data": {
      "text/plain": [
       "DecisionTreeClassifier(class_weight=None, criterion='gini', max_depth=None,\n",
       "            max_features=None, max_leaf_nodes=5, min_impurity_split=1e-07,\n",
       "            min_samples_leaf=250, min_samples_split=250,\n",
       "            min_weight_fraction_leaf=0.0, presort=False, random_state=None,\n",
       "            splitter='best')"
      ]
     },
     "execution_count": 16,
     "metadata": {},
     "output_type": "execute_result"
    }
   ],
   "source": [
    "from sklearn import tree\n",
    "model = tree.DecisionTreeClassifier(min_samples_split=250,min_samples_leaf=250,max_leaf_nodes=5)\n",
    "model.fit(df.drop('Personal Loan',axis=1),df['Personal Loan'])"
   ]
  },
  {
   "cell_type": "code",
   "execution_count": 17,
   "metadata": {
    "collapsed": false
   },
   "outputs": [
    {
     "data": {
      "image/svg+xml": [
       "<?xml version=\"1.0\" encoding=\"UTF-8\" standalone=\"no\"?>\n",
       "<!DOCTYPE svg PUBLIC \"-//W3C//DTD SVG 1.1//EN\"\n",
       " \"http://www.w3.org/Graphics/SVG/1.1/DTD/svg11.dtd\">\n",
       "<!-- Generated by graphviz version 2.40.1 (20161225.0304)\n",
       " -->\n",
       "<!-- Title: Tree Pages: 1 -->\n",
       "<svg width=\"627pt\" height=\"358pt\"\n",
       " viewBox=\"0.00 0.00 626.81 358.00\" xmlns=\"http://www.w3.org/2000/svg\" xmlns:xlink=\"http://www.w3.org/1999/xlink\">\n",
       "<g id=\"graph0\" class=\"graph\" transform=\"scale(1 1) rotate(0) translate(4 354)\">\n",
       "<title>Tree</title>\n",
       "<polygon fill=\"#ffffff\" stroke=\"transparent\" points=\"-4,4 -4,-354 622.8062,-354 622.8062,4 -4,4\"/>\n",
       "<!-- 0 -->\n",
       "<g id=\"node1\" class=\"node\">\n",
       "<title>0</title>\n",
       "<path fill=\"#e58139\" fill-opacity=\"0.890196\" stroke=\"#000000\" d=\"M397.9428,-350C397.9428,-350 285.9703,-350 285.9703,-350 279.9703,-350 273.9703,-344 273.9703,-338 273.9703,-338 273.9703,-298 273.9703,-298 273.9703,-292 279.9703,-286 285.9703,-286 285.9703,-286 397.9428,-286 397.9428,-286 403.9428,-286 409.9428,-292 409.9428,-298 409.9428,-298 409.9428,-338 409.9428,-338 409.9428,-344 403.9428,-350 397.9428,-350\"/>\n",
       "<text text-anchor=\"middle\" x=\"341.9565\" y=\"-334.8\" font-family=\"Helvetica,sans-Serif\" font-size=\"14.00\" fill=\"#000000\">Income &lt;= 113.5</text>\n",
       "<text text-anchor=\"middle\" x=\"341.9565\" y=\"-320.8\" font-family=\"Helvetica,sans-Serif\" font-size=\"14.00\" fill=\"#000000\">gini = 0.1768</text>\n",
       "<text text-anchor=\"middle\" x=\"341.9565\" y=\"-306.8\" font-family=\"Helvetica,sans-Serif\" font-size=\"14.00\" fill=\"#000000\">samples = 4000</text>\n",
       "<text text-anchor=\"middle\" x=\"341.9565\" y=\"-292.8\" font-family=\"Helvetica,sans-Serif\" font-size=\"14.00\" fill=\"#000000\">value = [3608, 392]</text>\n",
       "</g>\n",
       "<!-- 1 -->\n",
       "<g id=\"node2\" class=\"node\">\n",
       "<title>1</title>\n",
       "<path fill=\"#e58139\" fill-opacity=\"0.980392\" stroke=\"#000000\" d=\"M320.6561,-250C320.6561,-250 217.257,-250 217.257,-250 211.257,-250 205.257,-244 205.257,-238 205.257,-238 205.257,-198 205.257,-198 205.257,-192 211.257,-186 217.257,-186 217.257,-186 320.6561,-186 320.6561,-186 326.6561,-186 332.6561,-192 332.6561,-198 332.6561,-198 332.6561,-238 332.6561,-238 332.6561,-244 326.6561,-250 320.6561,-250\"/>\n",
       "<text text-anchor=\"middle\" x=\"268.9565\" y=\"-234.8\" font-family=\"Helvetica,sans-Serif\" font-size=\"14.00\" fill=\"#000000\">Income &lt;= 92.5</text>\n",
       "<text text-anchor=\"middle\" x=\"268.9565\" y=\"-220.8\" font-family=\"Helvetica,sans-Serif\" font-size=\"14.00\" fill=\"#000000\">gini = 0.0377</text>\n",
       "<text text-anchor=\"middle\" x=\"268.9565\" y=\"-206.8\" font-family=\"Helvetica,sans-Serif\" font-size=\"14.00\" fill=\"#000000\">samples = 3227</text>\n",
       "<text text-anchor=\"middle\" x=\"268.9565\" y=\"-192.8\" font-family=\"Helvetica,sans-Serif\" font-size=\"14.00\" fill=\"#000000\">value = [3165, 62]</text>\n",
       "</g>\n",
       "<!-- 0&#45;&gt;1 -->\n",
       "<g id=\"edge1\" class=\"edge\">\n",
       "<title>0&#45;&gt;1</title>\n",
       "<path fill=\"none\" stroke=\"#000000\" d=\"M318.4571,-285.8089C312.0748,-277.0661 305.0825,-267.4876 298.4159,-258.3553\"/>\n",
       "<polygon fill=\"#000000\" stroke=\"#000000\" points=\"301.1351,-256.144 292.412,-250.1308 295.4812,-260.2713 301.1351,-256.144\"/>\n",
       "<text text-anchor=\"middle\" x=\"288.5569\" y=\"-270.6317\" font-family=\"Helvetica,sans-Serif\" font-size=\"14.00\" fill=\"#000000\">True</text>\n",
       "</g>\n",
       "<!-- 2 -->\n",
       "<g id=\"node7\" class=\"node\">\n",
       "<title>2</title>\n",
       "<path fill=\"#e58139\" fill-opacity=\"0.254902\" stroke=\"#000000\" d=\"M466.6561,-250C466.6561,-250 363.257,-250 363.257,-250 357.257,-250 351.257,-244 351.257,-238 351.257,-238 351.257,-198 351.257,-198 351.257,-192 357.257,-186 363.257,-186 363.257,-186 466.6561,-186 466.6561,-186 472.6561,-186 478.6561,-192 478.6561,-198 478.6561,-198 478.6561,-238 478.6561,-238 478.6561,-244 472.6561,-250 466.6561,-250\"/>\n",
       "<text text-anchor=\"middle\" x=\"414.9565\" y=\"-234.8\" font-family=\"Helvetica,sans-Serif\" font-size=\"14.00\" fill=\"#000000\">Family &lt;= 1.5</text>\n",
       "<text text-anchor=\"middle\" x=\"414.9565\" y=\"-220.8\" font-family=\"Helvetica,sans-Serif\" font-size=\"14.00\" fill=\"#000000\">gini = 0.4893</text>\n",
       "<text text-anchor=\"middle\" x=\"414.9565\" y=\"-206.8\" font-family=\"Helvetica,sans-Serif\" font-size=\"14.00\" fill=\"#000000\">samples = 773</text>\n",
       "<text text-anchor=\"middle\" x=\"414.9565\" y=\"-192.8\" font-family=\"Helvetica,sans-Serif\" font-size=\"14.00\" fill=\"#000000\">value = [443, 330]</text>\n",
       "</g>\n",
       "<!-- 0&#45;&gt;2 -->\n",
       "<g id=\"edge6\" class=\"edge\">\n",
       "<title>0&#45;&gt;2</title>\n",
       "<path fill=\"none\" stroke=\"#000000\" d=\"M365.456,-285.8089C371.8383,-277.0661 378.8306,-267.4876 385.4971,-258.3553\"/>\n",
       "<polygon fill=\"#000000\" stroke=\"#000000\" points=\"388.4318,-260.2713 391.5011,-250.1308 382.778,-256.144 388.4318,-260.2713\"/>\n",
       "<text text-anchor=\"middle\" x=\"395.3562\" y=\"-270.6317\" font-family=\"Helvetica,sans-Serif\" font-size=\"14.00\" fill=\"#000000\">False</text>\n",
       "</g>\n",
       "<!-- 5 -->\n",
       "<g id=\"node3\" class=\"node\">\n",
       "<title>5</title>\n",
       "<path fill=\"#e58139\" fill-opacity=\"0.996078\" stroke=\"#000000\" d=\"M180.6561,-150C180.6561,-150 77.257,-150 77.257,-150 71.257,-150 65.257,-144 65.257,-138 65.257,-138 65.257,-98 65.257,-98 65.257,-92 71.257,-86 77.257,-86 77.257,-86 180.6561,-86 180.6561,-86 186.6561,-86 192.6561,-92 192.6561,-98 192.6561,-98 192.6561,-138 192.6561,-138 192.6561,-144 186.6561,-150 180.6561,-150\"/>\n",
       "<text text-anchor=\"middle\" x=\"128.9565\" y=\"-134.8\" font-family=\"Helvetica,sans-Serif\" font-size=\"14.00\" fill=\"#000000\">Income &lt;= 82.5</text>\n",
       "<text text-anchor=\"middle\" x=\"128.9565\" y=\"-120.8\" font-family=\"Helvetica,sans-Serif\" font-size=\"14.00\" fill=\"#000000\">gini = 0.0116</text>\n",
       "<text text-anchor=\"middle\" x=\"128.9565\" y=\"-106.8\" font-family=\"Helvetica,sans-Serif\" font-size=\"14.00\" fill=\"#000000\">samples = 2925</text>\n",
       "<text text-anchor=\"middle\" x=\"128.9565\" y=\"-92.8\" font-family=\"Helvetica,sans-Serif\" font-size=\"14.00\" fill=\"#000000\">value = [2908, 17]</text>\n",
       "</g>\n",
       "<!-- 1&#45;&gt;5 -->\n",
       "<g id=\"edge2\" class=\"edge\">\n",
       "<title>1&#45;&gt;5</title>\n",
       "<path fill=\"none\" stroke=\"#000000\" d=\"M223.889,-185.8089C210.6499,-176.3524 196.0421,-165.9182 182.3364,-156.1285\"/>\n",
       "<polygon fill=\"#000000\" stroke=\"#000000\" points=\"184.1113,-153.0951 173.9396,-150.1308 180.0426,-158.7913 184.1113,-153.0951\"/>\n",
       "</g>\n",
       "<!-- 6 -->\n",
       "<g id=\"node6\" class=\"node\">\n",
       "<title>6</title>\n",
       "<path fill=\"#e58139\" fill-opacity=\"0.823529\" stroke=\"#000000\" d=\"M318.8697,-143C318.8697,-143 223.0434,-143 223.0434,-143 217.0434,-143 211.0434,-137 211.0434,-131 211.0434,-131 211.0434,-105 211.0434,-105 211.0434,-99 217.0434,-93 223.0434,-93 223.0434,-93 318.8697,-93 318.8697,-93 324.8697,-93 330.8697,-99 330.8697,-105 330.8697,-105 330.8697,-131 330.8697,-131 330.8697,-137 324.8697,-143 318.8697,-143\"/>\n",
       "<text text-anchor=\"middle\" x=\"270.9565\" y=\"-127.8\" font-family=\"Helvetica,sans-Serif\" font-size=\"14.00\" fill=\"#000000\">gini = 0.2536</text>\n",
       "<text text-anchor=\"middle\" x=\"270.9565\" y=\"-113.8\" font-family=\"Helvetica,sans-Serif\" font-size=\"14.00\" fill=\"#000000\">samples = 302</text>\n",
       "<text text-anchor=\"middle\" x=\"270.9565\" y=\"-99.8\" font-family=\"Helvetica,sans-Serif\" font-size=\"14.00\" fill=\"#000000\">value = [257, 45]</text>\n",
       "</g>\n",
       "<!-- 1&#45;&gt;6 -->\n",
       "<g id=\"edge5\" class=\"edge\">\n",
       "<title>1&#45;&gt;6</title>\n",
       "<path fill=\"none\" stroke=\"#000000\" d=\"M269.6004,-185.8089C269.8076,-175.446 270.0384,-163.909 270.2499,-153.3327\"/>\n",
       "<polygon fill=\"#000000\" stroke=\"#000000\" points=\"273.7527,-153.2236 270.4534,-143.1555 266.7541,-153.0835 273.7527,-153.2236\"/>\n",
       "</g>\n",
       "<!-- 7 -->\n",
       "<g id=\"node4\" class=\"node\">\n",
       "<title>7</title>\n",
       "<path fill=\"#e58139\" stroke=\"#000000\" d=\"M107.8697,-50C107.8697,-50 12.0434,-50 12.0434,-50 6.0434,-50 .0434,-44 .0434,-38 .0434,-38 .0434,-12 .0434,-12 .0434,-6 6.0434,0 12.0434,0 12.0434,0 107.8697,0 107.8697,0 113.8697,0 119.8697,-6 119.8697,-12 119.8697,-12 119.8697,-38 119.8697,-38 119.8697,-44 113.8697,-50 107.8697,-50\"/>\n",
       "<text text-anchor=\"middle\" x=\"59.9565\" y=\"-34.8\" font-family=\"Helvetica,sans-Serif\" font-size=\"14.00\" fill=\"#000000\">gini = 0.0038</text>\n",
       "<text text-anchor=\"middle\" x=\"59.9565\" y=\"-20.8\" font-family=\"Helvetica,sans-Serif\" font-size=\"14.00\" fill=\"#000000\">samples = 2628</text>\n",
       "<text text-anchor=\"middle\" x=\"59.9565\" y=\"-6.8\" font-family=\"Helvetica,sans-Serif\" font-size=\"14.00\" fill=\"#000000\">value = [2623, 5]</text>\n",
       "</g>\n",
       "<!-- 5&#45;&gt;7 -->\n",
       "<g id=\"edge3\" class=\"edge\">\n",
       "<title>5&#45;&gt;7</title>\n",
       "<path fill=\"none\" stroke=\"#000000\" d=\"M105.2107,-85.9947C98.5251,-76.9837 91.2409,-67.1658 84.5092,-58.0927\"/>\n",
       "<polygon fill=\"#000000\" stroke=\"#000000\" points=\"87.2847,-55.9596 78.5153,-50.014 81.663,-60.1305 87.2847,-55.9596\"/>\n",
       "</g>\n",
       "<!-- 8 -->\n",
       "<g id=\"node5\" class=\"node\">\n",
       "<title>8</title>\n",
       "<path fill=\"#e58139\" fill-opacity=\"0.956863\" stroke=\"#000000\" d=\"M245.8697,-50C245.8697,-50 150.0434,-50 150.0434,-50 144.0434,-50 138.0434,-44 138.0434,-38 138.0434,-38 138.0434,-12 138.0434,-12 138.0434,-6 144.0434,0 150.0434,0 150.0434,0 245.8697,0 245.8697,0 251.8697,0 257.8697,-6 257.8697,-12 257.8697,-12 257.8697,-38 257.8697,-38 257.8697,-44 251.8697,-50 245.8697,-50\"/>\n",
       "<text text-anchor=\"middle\" x=\"197.9565\" y=\"-34.8\" font-family=\"Helvetica,sans-Serif\" font-size=\"14.00\" fill=\"#000000\">gini = 0.0775</text>\n",
       "<text text-anchor=\"middle\" x=\"197.9565\" y=\"-20.8\" font-family=\"Helvetica,sans-Serif\" font-size=\"14.00\" fill=\"#000000\">samples = 297</text>\n",
       "<text text-anchor=\"middle\" x=\"197.9565\" y=\"-6.8\" font-family=\"Helvetica,sans-Serif\" font-size=\"14.00\" fill=\"#000000\">value = [285, 12]</text>\n",
       "</g>\n",
       "<!-- 5&#45;&gt;8 -->\n",
       "<g id=\"edge4\" class=\"edge\">\n",
       "<title>5&#45;&gt;8</title>\n",
       "<path fill=\"none\" stroke=\"#000000\" d=\"M152.7024,-85.9947C159.388,-76.9837 166.6722,-67.1658 173.4039,-58.0927\"/>\n",
       "<polygon fill=\"#000000\" stroke=\"#000000\" points=\"176.2501,-60.1305 179.3977,-50.014 170.6284,-55.9596 176.2501,-60.1305\"/>\n",
       "</g>\n",
       "<!-- 3 -->\n",
       "<g id=\"node8\" class=\"node\">\n",
       "<title>3</title>\n",
       "<path fill=\"#e58139\" fill-opacity=\"0.709804\" stroke=\"#000000\" d=\"M460.8697,-143C460.8697,-143 365.0434,-143 365.0434,-143 359.0434,-143 353.0434,-137 353.0434,-131 353.0434,-131 353.0434,-105 353.0434,-105 353.0434,-99 359.0434,-93 365.0434,-93 365.0434,-93 460.8697,-93 460.8697,-93 466.8697,-93 472.8697,-99 472.8697,-105 472.8697,-105 472.8697,-131 472.8697,-131 472.8697,-137 466.8697,-143 460.8697,-143\"/>\n",
       "<text text-anchor=\"middle\" x=\"412.9565\" y=\"-127.8\" font-family=\"Helvetica,sans-Serif\" font-size=\"14.00\" fill=\"#000000\">gini = 0.3495</text>\n",
       "<text text-anchor=\"middle\" x=\"412.9565\" y=\"-113.8\" font-family=\"Helvetica,sans-Serif\" font-size=\"14.00\" fill=\"#000000\">samples = 288</text>\n",
       "<text text-anchor=\"middle\" x=\"412.9565\" y=\"-99.8\" font-family=\"Helvetica,sans-Serif\" font-size=\"14.00\" fill=\"#000000\">value = [223, 65]</text>\n",
       "</g>\n",
       "<!-- 2&#45;&gt;3 -->\n",
       "<g id=\"edge7\" class=\"edge\">\n",
       "<title>2&#45;&gt;3</title>\n",
       "<path fill=\"none\" stroke=\"#000000\" d=\"M414.3127,-185.8089C414.1055,-175.446 413.8747,-163.909 413.6632,-153.3327\"/>\n",
       "<polygon fill=\"#000000\" stroke=\"#000000\" points=\"417.159,-153.0835 413.4597,-143.1555 410.1604,-153.2236 417.159,-153.0835\"/>\n",
       "</g>\n",
       "<!-- 4 -->\n",
       "<g id=\"node9\" class=\"node\">\n",
       "<title>4</title>\n",
       "<path fill=\"#399de5\" fill-opacity=\"0.168627\" stroke=\"#000000\" d=\"M606.6561,-143C606.6561,-143 503.257,-143 503.257,-143 497.257,-143 491.257,-137 491.257,-131 491.257,-131 491.257,-105 491.257,-105 491.257,-99 497.257,-93 503.257,-93 503.257,-93 606.6561,-93 606.6561,-93 612.6561,-93 618.6561,-99 618.6561,-105 618.6561,-105 618.6561,-131 618.6561,-131 618.6561,-137 612.6561,-143 606.6561,-143\"/>\n",
       "<text text-anchor=\"middle\" x=\"554.9565\" y=\"-127.8\" font-family=\"Helvetica,sans-Serif\" font-size=\"14.00\" fill=\"#000000\">gini = 0.4957</text>\n",
       "<text text-anchor=\"middle\" x=\"554.9565\" y=\"-113.8\" font-family=\"Helvetica,sans-Serif\" font-size=\"14.00\" fill=\"#000000\">samples = 485</text>\n",
       "<text text-anchor=\"middle\" x=\"554.9565\" y=\"-99.8\" font-family=\"Helvetica,sans-Serif\" font-size=\"14.00\" fill=\"#000000\">value = [220, 265]</text>\n",
       "</g>\n",
       "<!-- 2&#45;&gt;4 -->\n",
       "<g id=\"edge8\" class=\"edge\">\n",
       "<title>2&#45;&gt;4</title>\n",
       "<path fill=\"none\" stroke=\"#000000\" d=\"M460.024,-185.8089C476.4968,-174.0427 495.0885,-160.7629 511.4247,-149.0942\"/>\n",
       "<polygon fill=\"#000000\" stroke=\"#000000\" points=\"513.6358,-151.816 519.7388,-143.1555 509.5671,-146.1199 513.6358,-151.816\"/>\n",
       "</g>\n",
       "</g>\n",
       "</svg>\n"
      ],
      "text/plain": [
       "<graphviz.files.Source at 0x113286748>"
      ]
     },
     "execution_count": 17,
     "metadata": {},
     "output_type": "execute_result"
    }
   ],
   "source": [
    "BabsonAnalytics.plotTree(model,train,trainTarget)"
   ]
  },
  {
   "cell_type": "code",
   "execution_count": 18,
   "metadata": {
    "collapsed": false
   },
   "outputs": [
    {
     "data": {
      "text/plain": [
       "0"
      ]
     },
     "execution_count": 18,
     "metadata": {},
     "output_type": "execute_result"
    }
   ],
   "source": [
    "from sklearn.tree import export_graphviz\n",
    "import graphviz\n",
    "\n",
    "export_graphviz(model, out_file=\"mytree.dot\",feature_names=df.drop('Personal Loan',axis=1).columns,filled=True,rounded=True)\n",
    "with open(\"mytree.dot\") as f:\n",
    "    dot_graph = f.read()\n",
    "graphviz.Source(dot_graph)\n",
    "\n",
    "import os\n",
    "os.system('dot -Tpdf mytree.dot -o ../figures/tree_universal_bank.pdf')\n"
   ]
  },
  {
   "cell_type": "markdown",
   "metadata": {},
   "source": []
  },
  {
   "cell_type": "code",
   "execution_count": 6,
   "metadata": {
    "collapsed": false
   },
   "outputs": [
    {
     "data": {
      "image/png": "[encoded data removed]",
      "text/plain": [
       "<matplotlib.figure.Figure at 0x1105743c8>"
      ]
     },
     "metadata": {},
     "output_type": "display_data"
    }
   ],
   "source": [
    "import matplotlib.pyplot as plt\n",
    "\n",
    "col_list = [\"orange\", \"blue\"]\n",
    "col_list_palette = sns.xkcd_palette(col_list)\n",
    "sns.set_palette(col_list_palette)\n",
    "tmp = pd.DataFrame({'Income':[57,73,87,103,140,140,163],'Family':[2,2,2,2,.75,2.75,3],'Personal Loan':[0,0,0,0,0,0,1]})\n",
    "sns.lmplot(x='Family',y='Income',hue='Personal Loan',data=tmp,fit_reg=False, markers = ['s','s'], scatter_kws={\"s\": 100})\n",
    "\n",
    "plt.plot([0,4],[113.5, 113.5],'k')\n",
    "plt.plot([1.5, 1.5],[113.5, 170],'k')\n",
    "plt.plot([1.5, 4],[154.5,154.5],'k')\n",
    "plt.plot([0,4],[92.5, 92.5],'k')\n",
    "plt.plot([0,4],[82.5,82.5],'k')\n",
    "plt.plot([0,4],[63.5, 63.5],'k')\n",
    "\n",
    "plt.xlim((0,4))\n",
    "plt.ylim((50,170))\n",
    "\n",
    "plt.savefig('../figures/tree_universal_bank_tree_map.pdf')\n",
    "\n"
   ]
  },
  {
   "cell_type": "code",
   "execution_count": 7,
   "metadata": {
    "collapsed": false
   },
   "outputs": [
    {
     "data": {
      "text/plain": [
       "0"
      ]
     },
     "execution_count": 7,
     "metadata": {},
     "output_type": "execute_result"
    }
   ],
   "source": [
    "import BabsonAnalytics\n",
    "model = tree.DecisionTreeClassifier(max_leaf_nodes = 2)\n",
    "model.fit(df.drop('Personal Loan',axis=1),df['Personal Loan'])\n",
    "\n",
    "export_graphviz(model, out_file=\"mytree.dot\",feature_names=df.drop('Personal Loan',axis=1).columns,filled=True,rounded=True)\n",
    "with open(\"mytree.dot\") as f:\n",
    "    dot_graph = f.read()\n",
    "graphviz.Source(dot_graph)\n",
    "\n",
    "import os\n",
    "os.system('dot -Tpdf mytree.dot -o ../figures/tree_underfit.pdf')"
   ]
  },
  {
   "cell_type": "code",
   "execution_count": 8,
   "metadata": {
    "collapsed": false
   },
   "outputs": [
    {
     "data": {
      "text/plain": [
       "0"
      ]
     },
     "execution_count": 8,
     "metadata": {},
     "output_type": "execute_result"
    }
   ],
   "source": [
    "model = tree.DecisionTreeClassifier(max_leaf_nodes = 20)\n",
    "model.fit(df.drop('Personal Loan',axis=1),df['Personal Loan'])\n",
    "\n",
    "export_graphviz(model, out_file=\"mytree.dot\",feature_names=df.drop('Personal Loan',axis=1).columns,filled=True,rounded=True)\n",
    "with open(\"mytree.dot\") as f:\n",
    "    dot_graph = f.read()\n",
    "graphviz.Source(dot_graph)\n",
    "\n",
    "import os\n",
    "os.system('dot -Tpdf mytree.dot -o ../figures/tree_overfit.pdf')"
   ]
  },
  {
   "cell_type": "code",
   "execution_count": 14,
   "metadata": {
    "collapsed": false
   },
   "outputs": [
    {
     "data": {
      "image/png": "[encoded data removed]",
      "text/plain": [
       "<matplotlib.figure.Figure at 0x1134a9be0>"
      ]
     },
     "metadata": {},
     "output_type": "display_data"
    }
   ],
   "source": [
    "train = df.sample(frac=0.8)\n",
    "test = df.drop(train.index)\n",
    "\n",
    "trainTarget = train.pop('Personal Loan')\n",
    "testTarget = test.pop('Personal Loan')\n",
    "\n",
    "import BabsonAnalytics\n",
    "model = tree.DecisionTreeClassifier()\n",
    "BabsonAnalytics.crossValTree(model,train,trainTarget)\n",
    "\n",
    "import matplotlib.pyplot as plt\n",
    "plt.savefig('../figures/tree_cross_val.pdf')"
   ]
  },
  {
   "cell_type": "code",
   "execution_count": null,
   "metadata": {
    "collapsed": true
   },
   "outputs": [],
   "source": []
  },
  {
   "cell_type": "code",
   "execution_count": null,
   "metadata": {
    "collapsed": true
   },
   "outputs": [],
   "source": []
  }
 ],
 "metadata": {
  "anaconda-cloud": {},
  "kernelspec": {
   "display_name": "Python [default]",
   "language": "python",
   "name": "python3"
  },
  "language_info": {
   "codemirror_mode": {
    "name": "ipython",
    "version": 3
   },
   "file_extension": ".py",
   "mimetype": "text/x-python",
   "name": "python",
   "nbconvert_exporter": "python",
   "pygments_lexer": "ipython3",
   "version": "3.5.2"
  }
 },
 "nbformat": 4,
 "nbformat_minor": 1
}
