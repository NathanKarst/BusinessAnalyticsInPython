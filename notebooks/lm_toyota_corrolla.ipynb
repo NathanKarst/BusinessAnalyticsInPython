{
 "cells": [
  {
   "cell_type": "code",
   "execution_count": 1,
   "metadata": {
    "collapsed": true
   },
   "outputs": [],
   "source": [
    "import pandas as pd\n",
    "import seaborn as sns\n",
    "import BabsonAnalytics\n",
    "import numpy as np\n",
    "%matplotlib inline"
   ]
  },
  {
   "cell_type": "code",
   "execution_count": 28,
   "metadata": {},
   "outputs": [
    {
     "data": {
      "text/html": [
       "<div>\n",
       "<table border=\"1\" class=\"dataframe\">\n",
       "  <thead>\n",
       "    <tr style=\"text-align: right;\">\n",
       "      <th></th>\n",
       "      <th>Price</th>\n",
       "      <th>Age</th>\n",
       "      <th>KM</th>\n",
       "      <th>HP</th>\n",
       "      <th>cc</th>\n",
       "      <th>Doors</th>\n",
       "      <th>Weight</th>\n",
       "      <th>Fuel_Type_Diesel</th>\n",
       "      <th>Fuel_Type_Petrol</th>\n",
       "      <th>Met_Color_1</th>\n",
       "      <th>Automatic_1</th>\n",
       "    </tr>\n",
       "  </thead>\n",
       "  <tbody>\n",
       "    <tr>\n",
       "      <th>0</th>\n",
       "      <td>13500</td>\n",
       "      <td>23</td>\n",
       "      <td>46986</td>\n",
       "      <td>90</td>\n",
       "      <td>2000</td>\n",
       "      <td>3</td>\n",
       "      <td>1165</td>\n",
       "      <td>1.0</td>\n",
       "      <td>0.0</td>\n",
       "      <td>1.0</td>\n",
       "      <td>0.0</td>\n",
       "    </tr>\n",
       "    <tr>\n",
       "      <th>1</th>\n",
       "      <td>13750</td>\n",
       "      <td>23</td>\n",
       "      <td>72937</td>\n",
       "      <td>90</td>\n",
       "      <td>2000</td>\n",
       "      <td>3</td>\n",
       "      <td>1165</td>\n",
       "      <td>1.0</td>\n",
       "      <td>0.0</td>\n",
       "      <td>1.0</td>\n",
       "      <td>0.0</td>\n",
       "    </tr>\n",
       "    <tr>\n",
       "      <th>2</th>\n",
       "      <td>13950</td>\n",
       "      <td>24</td>\n",
       "      <td>41711</td>\n",
       "      <td>90</td>\n",
       "      <td>2000</td>\n",
       "      <td>3</td>\n",
       "      <td>1165</td>\n",
       "      <td>1.0</td>\n",
       "      <td>0.0</td>\n",
       "      <td>1.0</td>\n",
       "      <td>0.0</td>\n",
       "    </tr>\n",
       "    <tr>\n",
       "      <th>3</th>\n",
       "      <td>14950</td>\n",
       "      <td>26</td>\n",
       "      <td>48000</td>\n",
       "      <td>90</td>\n",
       "      <td>2000</td>\n",
       "      <td>3</td>\n",
       "      <td>1165</td>\n",
       "      <td>1.0</td>\n",
       "      <td>0.0</td>\n",
       "      <td>0.0</td>\n",
       "      <td>0.0</td>\n",
       "    </tr>\n",
       "    <tr>\n",
       "      <th>4</th>\n",
       "      <td>13750</td>\n",
       "      <td>30</td>\n",
       "      <td>38500</td>\n",
       "      <td>90</td>\n",
       "      <td>2000</td>\n",
       "      <td>3</td>\n",
       "      <td>1170</td>\n",
       "      <td>1.0</td>\n",
       "      <td>0.0</td>\n",
       "      <td>0.0</td>\n",
       "      <td>0.0</td>\n",
       "    </tr>\n",
       "  </tbody>\n",
       "</table>\n",
       "</div>"
      ],
      "text/plain": [
       "   Price  Age     KM  HP    cc  Doors  Weight  Fuel_Type_Diesel  \\\n",
       "0  13500   23  46986  90  2000      3    1165               1.0   \n",
       "1  13750   23  72937  90  2000      3    1165               1.0   \n",
       "2  13950   24  41711  90  2000      3    1165               1.0   \n",
       "3  14950   26  48000  90  2000      3    1165               1.0   \n",
       "4  13750   30  38500  90  2000      3    1170               1.0   \n",
       "\n",
       "   Fuel_Type_Petrol  Met_Color_1  Automatic_1  \n",
       "0               0.0          1.0          0.0  \n",
       "1               0.0          1.0          0.0  \n",
       "2               0.0          1.0          0.0  \n",
       "3               0.0          0.0          0.0  \n",
       "4               0.0          0.0          0.0  "
      ]
     },
     "execution_count": 28,
     "metadata": {},
     "output_type": "execute_result"
    }
   ],
   "source": [
    "df = pd.read_csv('../data/ToyotaCorolla.csv')\n",
    "\n",
    "df.Fuel_Type = df.Fuel_Type.astype(\"category\")\n",
    "df.Automatic = df.Automatic.astype(\"category\")\n",
    "df.Met_Color = df.Met_Color.astype(\"category\")\n",
    "\n",
    "df = BabsonAnalytics.makeDummies(df,forRegression=True)\n",
    "\n",
    "df.head()"
   ]
  },
  {
   "cell_type": "code",
   "execution_count": 23,
   "metadata": {
    "collapsed": true
   },
   "outputs": [],
   "source": [
    "train = df.sample(frac=0.8) # sample 80% of the rows from df\n",
    "test = df.drop(train.index) # drop all that are now in training\n",
    "\n",
    "trainTarget = train.pop('Price') # pop out the target from df...\n",
    "testTarget = test.pop('Price') # ...we'll need these separately later"
   ]
  },
  {
   "cell_type": "code",
   "execution_count": 24,
   "metadata": {},
   "outputs": [
    {
     "name": "stdout",
     "output_type": "stream",
     "text": [
      "                  Estimate  p-value\n",
      "Predictor                          \n",
      "(Intercept)       -3062.53    0.031\n",
      "Age                -122.68    0.000\n",
      "KM                   -0.02    0.000\n",
      "HP                   62.72    0.000\n",
      "cc                   -4.22    0.000\n",
      "Doors                15.72    0.730\n",
      "Weight               19.13    0.000\n",
      "Fuel_Type_Diesel   3571.24    0.000\n",
      "Fuel_Type_Petrol   1119.12    0.004\n",
      "Met_Color_1          42.38    0.621\n",
      "Automatic_1         319.23    0.069\n",
      "\n",
      "\n",
      "\n"
     ]
    }
   ],
   "source": [
    "from sklearn import linear_model \n",
    "model = linear_model.LinearRegression(fit_intercept=True) # build an empty linear model\n",
    "model.fit(train,trainTarget) # fit the model to the training data\n",
    "BabsonAnalytics.inspectLinearModel(train,trainTarget,model) # inspect the model"
   ]
  },
  {
   "cell_type": "code",
   "execution_count": 31,
   "metadata": {},
   "outputs": [
    {
     "name": "stdout",
     "output_type": "stream",
     "text": [
      "RMSE:  1153.8666202\n",
      "MAPE:  0.09014615261783078\n"
     ]
    }
   ],
   "source": [
    "predictions = model.predict(test)\n",
    "\n",
    "error = testTarget - predictions\n",
    "\n",
    "rmse = np.sqrt(np.mean((error)**2))\n",
    "mape = np.mean(np.abs(error/testTarget))\n",
    "print('RMSE: ', rmse)\n",
    "print('MAPE: ', mape)\n"
   ]
  },
  {
   "cell_type": "code",
   "execution_count": null,
   "metadata": {
    "collapsed": true
   },
   "outputs": [],
   "source": []
  }
 ],
 "metadata": {
  "kernelspec": {
   "display_name": "Python 3",
   "language": "python",
   "name": "python3"
  },
  "language_info": {
   "codemirror_mode": {
    "name": "ipython",
    "version": 3
   },
   "file_extension": ".py",
   "mimetype": "text/x-python",
   "name": "python",
   "nbconvert_exporter": "python",
   "pygments_lexer": "ipython3",
   "version": "3.6.3"
  }
 },
 "nbformat": 4,
 "nbformat_minor": 1
}
