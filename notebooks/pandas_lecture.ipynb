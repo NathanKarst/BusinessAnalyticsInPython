{
 "cells": [
  {
   "cell_type": "markdown",
   "metadata": {
    "slideshow": {
     "slide_type": "slide"
    }
   },
   "source": [
    "# Introduction to Pandas\n",
    "## Nathan Karst"
   ]
  },
  {
   "cell_type": "markdown",
   "metadata": {
    "slideshow": {
     "slide_type": "slide"
    }
   },
   "source": [
    "## What is Pandas?\n",
    "\n",
    "* Pandas is a data management library for Python. \n",
    "\n",
    "\n",
    "* It allows us to load, manipulate, and save large arrays of data. "
   ]
  },
  {
   "cell_type": "code",
   "execution_count": 1,
   "metadata": {
    "collapsed": true,
    "nbpresent": {
     "id": "30f16c63-f710-4685-a328-88cb991ef461"
    },
    "slideshow": {
     "slide_type": "fragment"
    }
   },
   "outputs": [],
   "source": [
    "import pandas as pd"
   ]
  },
  {
   "cell_type": "markdown",
   "metadata": {
    "slideshow": {
     "slide_type": "fragment"
    }
   },
   "source": [
    "## Why Pandas?\n",
    "\n",
    "* Python and Pandas are free, cross platform open source. \n",
    "\n",
    "\n",
    "* The Python data analytics ecosystem quickly growing into an industry standard. "
   ]
  },
  {
   "cell_type": "markdown",
   "metadata": {
    "nbpresent": {
     "id": "2a856361-e46e-4d69-a15a-5807e6f4051e"
    },
    "slideshow": {
     "slide_type": "slide"
    }
   },
   "source": [
    "## Loading data in Pandas\n",
    "\n",
    "* Pandas can handle a lot of input file types, but in this course, we'll be using comma-separated value files (CSVs). \n",
    "\n",
    "\n",
    "* This file format doesn't require that you have Excel or any other particular application installed. Reading in files is pretty straightforward. "
   ]
  },
  {
   "cell_type": "code",
   "execution_count": 2,
   "metadata": {
    "nbpresent": {
     "id": "58932001-5b7d-42dc-8f7e-829907963adb"
    },
    "slideshow": {
     "slide_type": "fragment"
    }
   },
   "outputs": [
    {
     "data": {
      "text/html": [
       "<div>\n",
       "<table border=\"1\" class=\"dataframe\">\n",
       "  <thead>\n",
       "    <tr style=\"text-align: right;\">\n",
       "      <th></th>\n",
       "      <th>CRIM</th>\n",
       "      <th>ZN</th>\n",
       "      <th>INDUS</th>\n",
       "      <th>CHAS</th>\n",
       "      <th>NOX</th>\n",
       "      <th>RM</th>\n",
       "      <th>AGE</th>\n",
       "      <th>DIS</th>\n",
       "      <th>RAD</th>\n",
       "      <th>TAX</th>\n",
       "      <th>PTRATIO</th>\n",
       "      <th>LSTAT</th>\n",
       "      <th>MEDV</th>\n",
       "      <th>CAT. MEDV</th>\n",
       "    </tr>\n",
       "  </thead>\n",
       "  <tbody>\n",
       "    <tr>\n",
       "      <th>0</th>\n",
       "      <td>0.00632</td>\n",
       "      <td>18.0</td>\n",
       "      <td>2.31</td>\n",
       "      <td>0</td>\n",
       "      <td>0.538</td>\n",
       "      <td>6.575</td>\n",
       "      <td>65.2</td>\n",
       "      <td>4.0900</td>\n",
       "      <td>1</td>\n",
       "      <td>296</td>\n",
       "      <td>15.3</td>\n",
       "      <td>4.98</td>\n",
       "      <td>24.0</td>\n",
       "      <td>0</td>\n",
       "    </tr>\n",
       "    <tr>\n",
       "      <th>1</th>\n",
       "      <td>0.02731</td>\n",
       "      <td>0.0</td>\n",
       "      <td>7.07</td>\n",
       "      <td>0</td>\n",
       "      <td>0.469</td>\n",
       "      <td>6.421</td>\n",
       "      <td>78.9</td>\n",
       "      <td>4.9671</td>\n",
       "      <td>2</td>\n",
       "      <td>242</td>\n",
       "      <td>17.8</td>\n",
       "      <td>9.14</td>\n",
       "      <td>21.6</td>\n",
       "      <td>0</td>\n",
       "    </tr>\n",
       "    <tr>\n",
       "      <th>2</th>\n",
       "      <td>0.02729</td>\n",
       "      <td>0.0</td>\n",
       "      <td>7.07</td>\n",
       "      <td>0</td>\n",
       "      <td>0.469</td>\n",
       "      <td>7.185</td>\n",
       "      <td>61.1</td>\n",
       "      <td>4.9671</td>\n",
       "      <td>2</td>\n",
       "      <td>242</td>\n",
       "      <td>17.8</td>\n",
       "      <td>4.03</td>\n",
       "      <td>34.7</td>\n",
       "      <td>1</td>\n",
       "    </tr>\n",
       "    <tr>\n",
       "      <th>3</th>\n",
       "      <td>0.03237</td>\n",
       "      <td>0.0</td>\n",
       "      <td>2.18</td>\n",
       "      <td>0</td>\n",
       "      <td>0.458</td>\n",
       "      <td>6.998</td>\n",
       "      <td>45.8</td>\n",
       "      <td>6.0622</td>\n",
       "      <td>3</td>\n",
       "      <td>222</td>\n",
       "      <td>18.7</td>\n",
       "      <td>2.94</td>\n",
       "      <td>33.4</td>\n",
       "      <td>1</td>\n",
       "    </tr>\n",
       "    <tr>\n",
       "      <th>4</th>\n",
       "      <td>0.06905</td>\n",
       "      <td>0.0</td>\n",
       "      <td>2.18</td>\n",
       "      <td>0</td>\n",
       "      <td>0.458</td>\n",
       "      <td>7.147</td>\n",
       "      <td>54.2</td>\n",
       "      <td>6.0622</td>\n",
       "      <td>3</td>\n",
       "      <td>222</td>\n",
       "      <td>18.7</td>\n",
       "      <td>5.33</td>\n",
       "      <td>36.2</td>\n",
       "      <td>1</td>\n",
       "    </tr>\n",
       "  </tbody>\n",
       "</table>\n",
       "</div>"
      ],
      "text/plain": [
       "      CRIM    ZN  INDUS  CHAS    NOX     RM   AGE     DIS  RAD  TAX  PTRATIO  \\\n",
       "0  0.00632  18.0   2.31     0  0.538  6.575  65.2  4.0900    1  296     15.3   \n",
       "1  0.02731   0.0   7.07     0  0.469  6.421  78.9  4.9671    2  242     17.8   \n",
       "2  0.02729   0.0   7.07     0  0.469  7.185  61.1  4.9671    2  242     17.8   \n",
       "3  0.03237   0.0   2.18     0  0.458  6.998  45.8  6.0622    3  222     18.7   \n",
       "4  0.06905   0.0   2.18     0  0.458  7.147  54.2  6.0622    3  222     18.7   \n",
       "\n",
       "   LSTAT  MEDV  CAT. MEDV  \n",
       "0   4.98  24.0          0  \n",
       "1   9.14  21.6          0  \n",
       "2   4.03  34.7          1  \n",
       "3   2.94  33.4          1  \n",
       "4   5.33  36.2          1  "
      ]
     },
     "execution_count": 2,
     "metadata": {},
     "output_type": "execute_result"
    }
   ],
   "source": [
    "df = pd.read_csv('../data/BostonHousing.csv')\n",
    "df.head() # displays the first 5 rows of data"
   ]
  },
  {
   "cell_type": "markdown",
   "metadata": {
    "slideshow": {
     "slide_type": "fragment"
    }
   },
   "source": [
    "* Here, \"df\" is short for \"data frame\". \n",
    "\n",
    "\n",
    "* By convention, each column in the data frame represents a particular variable, and each row in the data frame represents an observation across each of the variables. "
   ]
  },
  {
   "cell_type": "markdown",
   "metadata": {
    "nbpresent": {
     "id": "7be927a4-ddb6-41a8-a847-3c70ac604cc0"
    },
    "slideshow": {
     "slide_type": "slide"
    }
   },
   "source": [
    "# Data dictionaries\n",
    "\n",
    "* If you've collected the data yourself, you'll be quite familiar with what each field represents. \n",
    "\n",
    "\n",
    "* But if you're using data that's been shared with you, the meaning of individual fields might be impossible to interpret just from their names. (What does CHAS mean, anyway?!) \n",
    "\n",
    "\n",
    "* To overcome this, datasets are often distributed together with a so-called *data dictionary* which spells out the precise meaning of each field. \n",
    "\n",
    "\n",
    "* (The data dictionary below [with minor edits] is from the documentation of the R programming language.)"
   ]
  },
  {
   "cell_type": "markdown",
   "metadata": {
    "nbpresent": {
     "id": "4bf4e1c6-b7c5-4f54-8f6d-913326bd00f5"
    },
    "slideshow": {
     "slide_type": "subslide"
    }
   },
   "source": [
    "## Housing Values in Suburbs of Boston\n",
    "\n",
    "### Description\n",
    "\n",
    "The Boston data frame has 506 rows and 14 columns.\n",
    "\n",
    "This data frame contains the following columns:\n",
    "\n",
    "* crim: per capita crime rate by town.\n",
    "\n",
    "* zn: proportion of residential land zoned for lots over 25,000 sq.ft.\n",
    "\n",
    "* indus: proportion of non-retail business acres per town.\n",
    "\n",
    "* chas: Charles River dummy variable (= 1 if tract bounds river; 0 otherwise).\n",
    "\n",
    "* nox: nitrogen oxides concentration (parts per 10 million).\n",
    "\n",
    "* rm: average number of rooms per dwelling.\n",
    "\n",
    "* age: proportion of owner-occupied units built prior to 1940.\n",
    "\n",
    "* dis: weighted mean of distances to five Boston employment centres.\n",
    "\n",
    "* rad: index of accessibility to radial highways.\n",
    "\n",
    "* tax: full-value property-tax rate per \\$10,000.\n",
    "\n",
    "* ptratio: pupil-teacher ratio by town.\n",
    "\n",
    "* lstat: lower status of the population (percent).\n",
    "\n",
    "* medv: median value of owner-occupied homes in \\$1000s.\n",
    "\n",
    "* cat. medv: median value dummy variable (= 1 if medv > 30)\n",
    "\n",
    "Source\n",
    "\n",
    "Harrison, D. and Rubinfeld, D.L. (1978) Hedonic prices and the demand for clean air. J. Environ. Economics and Management 5, 81–102.\n",
    "\n",
    "Belsley D.A., Kuh, E. and Welsch, R.E. (1980) Regression Diagnostics. Identifying Influential Data and Sources of Collinearity. New York: Wiley."
   ]
  },
  {
   "cell_type": "markdown",
   "metadata": {
    "nbpresent": {
     "id": "19baa940-f866-4eb4-b246-773c5715defe"
    },
    "slideshow": {
     "slide_type": "slide"
    }
   },
   "source": [
    "# Interacting with data frames\n",
    "\n",
    "* We often want to interact with specific subsets of a data frame, and to do this, we first need to be able to *access* particular subsets of the data frame. \n",
    "\n",
    "\n",
    "* This operation is commonly known as *slicing*, as we're in some sense just cutting out the data we want. \n",
    "\n",
    "\n",
    "* In some sense, columns are the fundamental units of any data frame, and so there are many ways to access them. \n",
    "\n",
    "\n",
    "* For instance, we can access each by name. (Notice that this output is super long!)"
   ]
  },
  {
   "cell_type": "code",
   "execution_count": 3,
   "metadata": {
    "nbpresent": {
     "id": "1812e90d-880e-4267-a6ec-4c78e805495a"
    },
    "scrolled": true,
    "slideshow": {
     "slide_type": "fragment"
    }
   },
   "outputs": [
    {
     "data": {
      "text/plain": [
       "0       0.00632\n",
       "1       0.02731\n",
       "2       0.02729\n",
       "3       0.03237\n",
       "4       0.06905\n",
       "5       0.02985\n",
       "6       0.08829\n",
       "7       0.14455\n",
       "8       0.21124\n",
       "9       0.17004\n",
       "10      0.22489\n",
       "11      0.11747\n",
       "12      0.09378\n",
       "13      0.62976\n",
       "14      0.63796\n",
       "15      0.62739\n",
       "16      1.05393\n",
       "17      0.78420\n",
       "18      0.80271\n",
       "19      0.72580\n",
       "20      1.25179\n",
       "21      0.85204\n",
       "22      1.23247\n",
       "23      0.98843\n",
       "24      0.75026\n",
       "25      0.84054\n",
       "26      0.67191\n",
       "27      0.95577\n",
       "28      0.77299\n",
       "29      1.00245\n",
       "         ...   \n",
       "476     4.87141\n",
       "477    15.02340\n",
       "478    10.23300\n",
       "479    14.33370\n",
       "480     5.82401\n",
       "481     5.70818\n",
       "482     5.73116\n",
       "483     2.81838\n",
       "484     2.37857\n",
       "485     3.67367\n",
       "486     5.69175\n",
       "487     4.83567\n",
       "488     0.15086\n",
       "489     0.18337\n",
       "490     0.20746\n",
       "491     0.10574\n",
       "492     0.11132\n",
       "493     0.17331\n",
       "494     0.27957\n",
       "495     0.17899\n",
       "496     0.28960\n",
       "497     0.26838\n",
       "498     0.23912\n",
       "499     0.17783\n",
       "500     0.22438\n",
       "501     0.06263\n",
       "502     0.04527\n",
       "503     0.06076\n",
       "504     0.10959\n",
       "505     0.04741\n",
       "Name: CRIM, dtype: float64"
      ]
     },
     "execution_count": 3,
     "metadata": {},
     "output_type": "execute_result"
    }
   ],
   "source": [
    "df['CRIM'] # access the column titled 'CRIM'"
   ]
  },
  {
   "cell_type": "markdown",
   "metadata": {
    "nbpresent": {
     "id": "a3b97077-ca60-49c3-95d5-7d2baaee53eb"
    },
    "slideshow": {
     "slide_type": "slide"
    }
   },
   "source": [
    "# Slicing\n",
    "\n",
    "* We can also access just some of the elements from any column. \n",
    "\n",
    "* When we're slicing rows and columns, the rows we want to slice always come first."
   ]
  },
  {
   "cell_type": "code",
   "execution_count": 4,
   "metadata": {
    "nbpresent": {
     "id": "315e4866-e6bf-45f2-887b-23c968af973e"
    },
    "slideshow": {
     "slide_type": "fragment"
    }
   },
   "outputs": [
    {
     "data": {
      "text/plain": [
       "0    0.00632\n",
       "1    0.02731\n",
       "2    0.02729\n",
       "3    0.03237\n",
       "4    0.06905\n",
       "5    0.02985\n",
       "Name: CRIM, dtype: float64"
      ]
     },
     "execution_count": 4,
     "metadata": {},
     "output_type": "execute_result"
    }
   ],
   "source": [
    "df.loc[0:5,'CRIM'] # rows 0 through 5 (inclusive) of the CRIM column"
   ]
  },
  {
   "cell_type": "code",
   "execution_count": 5,
   "metadata": {
    "nbpresent": {
     "id": "0d96c601-3ca4-4eca-ad51-db3bad868844"
    },
    "slideshow": {
     "slide_type": "fragment"
    }
   },
   "outputs": [
    {
     "data": {
      "text/html": [
       "<div>\n",
       "<table border=\"1\" class=\"dataframe\">\n",
       "  <thead>\n",
       "    <tr style=\"text-align: right;\">\n",
       "      <th></th>\n",
       "      <th>CRIM</th>\n",
       "      <th>NOX</th>\n",
       "    </tr>\n",
       "  </thead>\n",
       "  <tbody>\n",
       "    <tr>\n",
       "      <th>0</th>\n",
       "      <td>0.00632</td>\n",
       "      <td>0.538</td>\n",
       "    </tr>\n",
       "    <tr>\n",
       "      <th>1</th>\n",
       "      <td>0.02731</td>\n",
       "      <td>0.469</td>\n",
       "    </tr>\n",
       "    <tr>\n",
       "      <th>2</th>\n",
       "      <td>0.02729</td>\n",
       "      <td>0.469</td>\n",
       "    </tr>\n",
       "    <tr>\n",
       "      <th>3</th>\n",
       "      <td>0.03237</td>\n",
       "      <td>0.458</td>\n",
       "    </tr>\n",
       "    <tr>\n",
       "      <th>4</th>\n",
       "      <td>0.06905</td>\n",
       "      <td>0.458</td>\n",
       "    </tr>\n",
       "    <tr>\n",
       "      <th>5</th>\n",
       "      <td>0.02985</td>\n",
       "      <td>0.458</td>\n",
       "    </tr>\n",
       "  </tbody>\n",
       "</table>\n",
       "</div>"
      ],
      "text/plain": [
       "      CRIM    NOX\n",
       "0  0.00632  0.538\n",
       "1  0.02731  0.469\n",
       "2  0.02729  0.469\n",
       "3  0.03237  0.458\n",
       "4  0.06905  0.458\n",
       "5  0.02985  0.458"
      ]
     },
     "execution_count": 5,
     "metadata": {},
     "output_type": "execute_result"
    }
   ],
   "source": [
    "df.loc[0:5,['CRIM','NOX']] # rows 0 through 5 (inclusive) of the CRIM and NOX columns"
   ]
  },
  {
   "cell_type": "markdown",
   "metadata": {
    "nbpresent": {
     "id": "b13468df-9c58-4f9a-894f-0bcd63a91457"
    },
    "slideshow": {
     "slide_type": "slide"
    }
   },
   "source": [
    "# Managing data\n",
    "\n",
    "* It's often the case that the variables as they're loaded in aren't quite in the format we'd like. \n",
    "\n",
    "\n",
    "* For instance, if the variable CHAS is equal to 1, then the associated neighborhood is on the Charles River. \n",
    "\n",
    "\n",
    "* This is actually quite important: In the CHAS column, the 0s and 1s aren't actually numbers -- they're indicators!\n",
    "\n",
    "\n",
    "* This is a general problem: any time we have categorical data represented by numbers (i.e., 1 for the first category, 2 for the second category, etc.), we need to be careful to convert. "
   ]
  },
  {
   "cell_type": "markdown",
   "metadata": {
    "slideshow": {
     "slide_type": "slide"
    }
   },
   "source": [
    "# Managing data\n",
    "\n",
    "* To make sure that we (and Python) don't get confused during the analytics process, let's manually change CHAS into a categorical, rather than numeric, variable."
   ]
  },
  {
   "cell_type": "code",
   "execution_count": 6,
   "metadata": {
    "nbpresent": {
     "id": "e413e88c-c3b0-461d-a426-95fcd68f0e49"
    },
    "slideshow": {
     "slide_type": "fragment"
    }
   },
   "outputs": [
    {
     "data": {
      "text/html": [
       "<div>\n",
       "<table border=\"1\" class=\"dataframe\">\n",
       "  <thead>\n",
       "    <tr style=\"text-align: right;\">\n",
       "      <th></th>\n",
       "      <th>CRIM</th>\n",
       "      <th>ZN</th>\n",
       "      <th>INDUS</th>\n",
       "      <th>CHAS</th>\n",
       "      <th>NOX</th>\n",
       "      <th>RM</th>\n",
       "      <th>AGE</th>\n",
       "      <th>DIS</th>\n",
       "      <th>RAD</th>\n",
       "      <th>TAX</th>\n",
       "      <th>PTRATIO</th>\n",
       "      <th>LSTAT</th>\n",
       "      <th>MEDV</th>\n",
       "      <th>CAT. MEDV</th>\n",
       "    </tr>\n",
       "  </thead>\n",
       "  <tbody>\n",
       "    <tr>\n",
       "      <th>0</th>\n",
       "      <td>0.00632</td>\n",
       "      <td>18.0</td>\n",
       "      <td>2.31</td>\n",
       "      <td>0</td>\n",
       "      <td>0.538</td>\n",
       "      <td>6.575</td>\n",
       "      <td>65.2</td>\n",
       "      <td>4.0900</td>\n",
       "      <td>1</td>\n",
       "      <td>296</td>\n",
       "      <td>15.3</td>\n",
       "      <td>4.98</td>\n",
       "      <td>24.0</td>\n",
       "      <td>0</td>\n",
       "    </tr>\n",
       "    <tr>\n",
       "      <th>1</th>\n",
       "      <td>0.02731</td>\n",
       "      <td>0.0</td>\n",
       "      <td>7.07</td>\n",
       "      <td>0</td>\n",
       "      <td>0.469</td>\n",
       "      <td>6.421</td>\n",
       "      <td>78.9</td>\n",
       "      <td>4.9671</td>\n",
       "      <td>2</td>\n",
       "      <td>242</td>\n",
       "      <td>17.8</td>\n",
       "      <td>9.14</td>\n",
       "      <td>21.6</td>\n",
       "      <td>0</td>\n",
       "    </tr>\n",
       "    <tr>\n",
       "      <th>2</th>\n",
       "      <td>0.02729</td>\n",
       "      <td>0.0</td>\n",
       "      <td>7.07</td>\n",
       "      <td>0</td>\n",
       "      <td>0.469</td>\n",
       "      <td>7.185</td>\n",
       "      <td>61.1</td>\n",
       "      <td>4.9671</td>\n",
       "      <td>2</td>\n",
       "      <td>242</td>\n",
       "      <td>17.8</td>\n",
       "      <td>4.03</td>\n",
       "      <td>34.7</td>\n",
       "      <td>1</td>\n",
       "    </tr>\n",
       "    <tr>\n",
       "      <th>3</th>\n",
       "      <td>0.03237</td>\n",
       "      <td>0.0</td>\n",
       "      <td>2.18</td>\n",
       "      <td>0</td>\n",
       "      <td>0.458</td>\n",
       "      <td>6.998</td>\n",
       "      <td>45.8</td>\n",
       "      <td>6.0622</td>\n",
       "      <td>3</td>\n",
       "      <td>222</td>\n",
       "      <td>18.7</td>\n",
       "      <td>2.94</td>\n",
       "      <td>33.4</td>\n",
       "      <td>1</td>\n",
       "    </tr>\n",
       "    <tr>\n",
       "      <th>4</th>\n",
       "      <td>0.06905</td>\n",
       "      <td>0.0</td>\n",
       "      <td>2.18</td>\n",
       "      <td>0</td>\n",
       "      <td>0.458</td>\n",
       "      <td>7.147</td>\n",
       "      <td>54.2</td>\n",
       "      <td>6.0622</td>\n",
       "      <td>3</td>\n",
       "      <td>222</td>\n",
       "      <td>18.7</td>\n",
       "      <td>5.33</td>\n",
       "      <td>36.2</td>\n",
       "      <td>1</td>\n",
       "    </tr>\n",
       "  </tbody>\n",
       "</table>\n",
       "</div>"
      ],
      "text/plain": [
       "      CRIM    ZN  INDUS CHAS    NOX     RM   AGE     DIS  RAD  TAX  PTRATIO  \\\n",
       "0  0.00632  18.0   2.31    0  0.538  6.575  65.2  4.0900    1  296     15.3   \n",
       "1  0.02731   0.0   7.07    0  0.469  6.421  78.9  4.9671    2  242     17.8   \n",
       "2  0.02729   0.0   7.07    0  0.469  7.185  61.1  4.9671    2  242     17.8   \n",
       "3  0.03237   0.0   2.18    0  0.458  6.998  45.8  6.0622    3  222     18.7   \n",
       "4  0.06905   0.0   2.18    0  0.458  7.147  54.2  6.0622    3  222     18.7   \n",
       "\n",
       "   LSTAT  MEDV  CAT. MEDV  \n",
       "0   4.98  24.0          0  \n",
       "1   9.14  21.6          0  \n",
       "2   4.03  34.7          1  \n",
       "3   2.94  33.4          1  \n",
       "4   5.33  36.2          1  "
      ]
     },
     "execution_count": 6,
     "metadata": {},
     "output_type": "execute_result"
    }
   ],
   "source": [
    "df['CHAS'] = df['CHAS'].astype(\"category\") \n",
    "df.head()"
   ]
  },
  {
   "cell_type": "markdown",
   "metadata": {
    "nbpresent": {
     "id": "e70278ad-56cc-4f88-80be-f2533a469879"
    },
    "slideshow": {
     "slide_type": "slide"
    }
   },
   "source": [
    "# Managing data\n",
    "\n",
    "* It doesn't appear that anything has changed! \n",
    "\n",
    "\n",
    "* But if we look at the types of each column, we can see that the altertion has been implemented."
   ]
  },
  {
   "cell_type": "code",
   "execution_count": 7,
   "metadata": {
    "nbpresent": {
     "id": "0d516a3f-b4b3-4ce5-b47b-4dd8b6766a7b"
    },
    "slideshow": {
     "slide_type": "fragment"
    }
   },
   "outputs": [
    {
     "data": {
      "text/plain": [
       "CRIM          float64\n",
       "ZN            float64\n",
       "INDUS         float64\n",
       "CHAS         category\n",
       "NOX           float64\n",
       "RM            float64\n",
       "AGE           float64\n",
       "DIS           float64\n",
       "RAD             int64\n",
       "TAX             int64\n",
       "PTRATIO       float64\n",
       "LSTAT         float64\n",
       "MEDV          float64\n",
       "CAT. MEDV       int64\n",
       "dtype: object"
      ]
     },
     "execution_count": 7,
     "metadata": {},
     "output_type": "execute_result"
    }
   ],
   "source": [
    "df.dtypes"
   ]
  },
  {
   "cell_type": "markdown",
   "metadata": {
    "slideshow": {
     "slide_type": "fragment"
    }
   },
   "source": [
    "* Both float64 and int64 represent *numerical* variables. (Floats include decimals, while integers don't.)\n",
    "\n",
    "\n",
    "* Both category and object represent *categorical* variables. "
   ]
  },
  {
   "cell_type": "markdown",
   "metadata": {
    "nbpresent": {
     "id": "15dce4a0-d5bb-4ed5-9528-95f6653771d2"
    },
    "slideshow": {
     "slide_type": "slide"
    }
   },
   "source": [
    "# Managing data\n",
    "\n",
    "* We can also replace the values in a particular column with values of our choosing. \n",
    "\n",
    "\n",
    "* For instance, in the column CAT. MEDV: \n",
    "    * a value of 0 represents a neighborhood with lower than median value homes;\n",
    "    * a value of 1 represents a neighborhood with higher than median value homes. \n",
    "\n",
    "\n",
    "* Let's give this column more descriptive values:"
   ]
  },
  {
   "cell_type": "code",
   "execution_count": 8,
   "metadata": {
    "nbpresent": {
     "id": "8003d888-1cf1-4136-a38f-42f714b9988e"
    },
    "slideshow": {
     "slide_type": "fragment"
    }
   },
   "outputs": [
    {
     "data": {
      "text/html": [
       "<div>\n",
       "<table border=\"1\" class=\"dataframe\">\n",
       "  <thead>\n",
       "    <tr style=\"text-align: right;\">\n",
       "      <th></th>\n",
       "      <th>CRIM</th>\n",
       "      <th>ZN</th>\n",
       "      <th>INDUS</th>\n",
       "      <th>CHAS</th>\n",
       "      <th>NOX</th>\n",
       "      <th>RM</th>\n",
       "      <th>AGE</th>\n",
       "      <th>DIS</th>\n",
       "      <th>RAD</th>\n",
       "      <th>TAX</th>\n",
       "      <th>PTRATIO</th>\n",
       "      <th>LSTAT</th>\n",
       "      <th>MEDV</th>\n",
       "      <th>CAT. MEDV</th>\n",
       "    </tr>\n",
       "  </thead>\n",
       "  <tbody>\n",
       "    <tr>\n",
       "      <th>0</th>\n",
       "      <td>0.00632</td>\n",
       "      <td>18.0</td>\n",
       "      <td>2.31</td>\n",
       "      <td>0</td>\n",
       "      <td>0.538</td>\n",
       "      <td>6.575</td>\n",
       "      <td>65.2</td>\n",
       "      <td>4.0900</td>\n",
       "      <td>1</td>\n",
       "      <td>296</td>\n",
       "      <td>15.3</td>\n",
       "      <td>4.98</td>\n",
       "      <td>24.0</td>\n",
       "      <td>Low</td>\n",
       "    </tr>\n",
       "    <tr>\n",
       "      <th>1</th>\n",
       "      <td>0.02731</td>\n",
       "      <td>0.0</td>\n",
       "      <td>7.07</td>\n",
       "      <td>0</td>\n",
       "      <td>0.469</td>\n",
       "      <td>6.421</td>\n",
       "      <td>78.9</td>\n",
       "      <td>4.9671</td>\n",
       "      <td>2</td>\n",
       "      <td>242</td>\n",
       "      <td>17.8</td>\n",
       "      <td>9.14</td>\n",
       "      <td>21.6</td>\n",
       "      <td>Low</td>\n",
       "    </tr>\n",
       "    <tr>\n",
       "      <th>2</th>\n",
       "      <td>0.02729</td>\n",
       "      <td>0.0</td>\n",
       "      <td>7.07</td>\n",
       "      <td>0</td>\n",
       "      <td>0.469</td>\n",
       "      <td>7.185</td>\n",
       "      <td>61.1</td>\n",
       "      <td>4.9671</td>\n",
       "      <td>2</td>\n",
       "      <td>242</td>\n",
       "      <td>17.8</td>\n",
       "      <td>4.03</td>\n",
       "      <td>34.7</td>\n",
       "      <td>High</td>\n",
       "    </tr>\n",
       "    <tr>\n",
       "      <th>3</th>\n",
       "      <td>0.03237</td>\n",
       "      <td>0.0</td>\n",
       "      <td>2.18</td>\n",
       "      <td>0</td>\n",
       "      <td>0.458</td>\n",
       "      <td>6.998</td>\n",
       "      <td>45.8</td>\n",
       "      <td>6.0622</td>\n",
       "      <td>3</td>\n",
       "      <td>222</td>\n",
       "      <td>18.7</td>\n",
       "      <td>2.94</td>\n",
       "      <td>33.4</td>\n",
       "      <td>High</td>\n",
       "    </tr>\n",
       "    <tr>\n",
       "      <th>4</th>\n",
       "      <td>0.06905</td>\n",
       "      <td>0.0</td>\n",
       "      <td>2.18</td>\n",
       "      <td>0</td>\n",
       "      <td>0.458</td>\n",
       "      <td>7.147</td>\n",
       "      <td>54.2</td>\n",
       "      <td>6.0622</td>\n",
       "      <td>3</td>\n",
       "      <td>222</td>\n",
       "      <td>18.7</td>\n",
       "      <td>5.33</td>\n",
       "      <td>36.2</td>\n",
       "      <td>High</td>\n",
       "    </tr>\n",
       "  </tbody>\n",
       "</table>\n",
       "</div>"
      ],
      "text/plain": [
       "      CRIM    ZN  INDUS CHAS    NOX     RM   AGE     DIS  RAD  TAX  PTRATIO  \\\n",
       "0  0.00632  18.0   2.31    0  0.538  6.575  65.2  4.0900    1  296     15.3   \n",
       "1  0.02731   0.0   7.07    0  0.469  6.421  78.9  4.9671    2  242     17.8   \n",
       "2  0.02729   0.0   7.07    0  0.469  7.185  61.1  4.9671    2  242     17.8   \n",
       "3  0.03237   0.0   2.18    0  0.458  6.998  45.8  6.0622    3  222     18.7   \n",
       "4  0.06905   0.0   2.18    0  0.458  7.147  54.2  6.0622    3  222     18.7   \n",
       "\n",
       "   LSTAT  MEDV CAT. MEDV  \n",
       "0   4.98  24.0       Low  \n",
       "1   9.14  21.6       Low  \n",
       "2   4.03  34.7      High  \n",
       "3   2.94  33.4      High  \n",
       "4   5.33  36.2      High  "
      ]
     },
     "execution_count": 8,
     "metadata": {},
     "output_type": "execute_result"
    }
   ],
   "source": [
    "df['CAT. MEDV'].replace([0,1],[\"Low\",\"High\"],inplace=True) # replace 0 with Low and 1 with High directly in df\n",
    "df.head()"
   ]
  },
  {
   "cell_type": "markdown",
   "metadata": {
    "slideshow": {
     "slide_type": "slide"
    }
   },
   "source": [
    "# Other Pandas functionality: descriptive statistics\n",
    "\n",
    "* Pandas supplies many basic statistical tools. \n",
    "\n",
    "\n",
    "* For instance, we can easily get the descriptive statistics for each of the columns."
   ]
  },
  {
   "cell_type": "code",
   "execution_count": 9,
   "metadata": {
    "nbpresent": {
     "id": "14c0452d-a790-471d-8f51-d81fb6ddd867"
    },
    "slideshow": {
     "slide_type": "fragment"
    }
   },
   "outputs": [
    {
     "data": {
      "text/html": [
       "<div>\n",
       "<table border=\"1\" class=\"dataframe\">\n",
       "  <thead>\n",
       "    <tr style=\"text-align: right;\">\n",
       "      <th></th>\n",
       "      <th>CRIM</th>\n",
       "      <th>ZN</th>\n",
       "      <th>INDUS</th>\n",
       "      <th>NOX</th>\n",
       "      <th>RM</th>\n",
       "      <th>AGE</th>\n",
       "      <th>DIS</th>\n",
       "      <th>RAD</th>\n",
       "      <th>TAX</th>\n",
       "      <th>PTRATIO</th>\n",
       "      <th>LSTAT</th>\n",
       "      <th>MEDV</th>\n",
       "    </tr>\n",
       "  </thead>\n",
       "  <tbody>\n",
       "    <tr>\n",
       "      <th>count</th>\n",
       "      <td>506.000000</td>\n",
       "      <td>506.000000</td>\n",
       "      <td>506.000000</td>\n",
       "      <td>506.000000</td>\n",
       "      <td>506.000000</td>\n",
       "      <td>506.000000</td>\n",
       "      <td>506.000000</td>\n",
       "      <td>506.000000</td>\n",
       "      <td>506.000000</td>\n",
       "      <td>506.000000</td>\n",
       "      <td>506.000000</td>\n",
       "      <td>506.000000</td>\n",
       "    </tr>\n",
       "    <tr>\n",
       "      <th>mean</th>\n",
       "      <td>3.613524</td>\n",
       "      <td>11.363636</td>\n",
       "      <td>11.136779</td>\n",
       "      <td>0.554695</td>\n",
       "      <td>6.284634</td>\n",
       "      <td>68.574901</td>\n",
       "      <td>3.795043</td>\n",
       "      <td>9.549407</td>\n",
       "      <td>408.237154</td>\n",
       "      <td>18.455534</td>\n",
       "      <td>12.653063</td>\n",
       "      <td>22.532806</td>\n",
       "    </tr>\n",
       "    <tr>\n",
       "      <th>std</th>\n",
       "      <td>8.601545</td>\n",
       "      <td>23.322453</td>\n",
       "      <td>6.860353</td>\n",
       "      <td>0.115878</td>\n",
       "      <td>0.702617</td>\n",
       "      <td>28.148861</td>\n",
       "      <td>2.105710</td>\n",
       "      <td>8.707259</td>\n",
       "      <td>168.537116</td>\n",
       "      <td>2.164946</td>\n",
       "      <td>7.141062</td>\n",
       "      <td>9.197104</td>\n",
       "    </tr>\n",
       "    <tr>\n",
       "      <th>min</th>\n",
       "      <td>0.006320</td>\n",
       "      <td>0.000000</td>\n",
       "      <td>0.460000</td>\n",
       "      <td>0.385000</td>\n",
       "      <td>3.561000</td>\n",
       "      <td>2.900000</td>\n",
       "      <td>1.129600</td>\n",
       "      <td>1.000000</td>\n",
       "      <td>187.000000</td>\n",
       "      <td>12.600000</td>\n",
       "      <td>1.730000</td>\n",
       "      <td>5.000000</td>\n",
       "    </tr>\n",
       "    <tr>\n",
       "      <th>25%</th>\n",
       "      <td>0.082045</td>\n",
       "      <td>0.000000</td>\n",
       "      <td>5.190000</td>\n",
       "      <td>0.449000</td>\n",
       "      <td>5.885500</td>\n",
       "      <td>45.025000</td>\n",
       "      <td>2.100175</td>\n",
       "      <td>4.000000</td>\n",
       "      <td>279.000000</td>\n",
       "      <td>17.400000</td>\n",
       "      <td>6.950000</td>\n",
       "      <td>17.025000</td>\n",
       "    </tr>\n",
       "    <tr>\n",
       "      <th>50%</th>\n",
       "      <td>0.256510</td>\n",
       "      <td>0.000000</td>\n",
       "      <td>9.690000</td>\n",
       "      <td>0.538000</td>\n",
       "      <td>6.208500</td>\n",
       "      <td>77.500000</td>\n",
       "      <td>3.207450</td>\n",
       "      <td>5.000000</td>\n",
       "      <td>330.000000</td>\n",
       "      <td>19.050000</td>\n",
       "      <td>11.360000</td>\n",
       "      <td>21.200000</td>\n",
       "    </tr>\n",
       "    <tr>\n",
       "      <th>75%</th>\n",
       "      <td>3.677082</td>\n",
       "      <td>12.500000</td>\n",
       "      <td>18.100000</td>\n",
       "      <td>0.624000</td>\n",
       "      <td>6.623500</td>\n",
       "      <td>94.075000</td>\n",
       "      <td>5.188425</td>\n",
       "      <td>24.000000</td>\n",
       "      <td>666.000000</td>\n",
       "      <td>20.200000</td>\n",
       "      <td>16.955000</td>\n",
       "      <td>25.000000</td>\n",
       "    </tr>\n",
       "    <tr>\n",
       "      <th>max</th>\n",
       "      <td>88.976200</td>\n",
       "      <td>100.000000</td>\n",
       "      <td>27.740000</td>\n",
       "      <td>0.871000</td>\n",
       "      <td>8.780000</td>\n",
       "      <td>100.000000</td>\n",
       "      <td>12.126500</td>\n",
       "      <td>24.000000</td>\n",
       "      <td>711.000000</td>\n",
       "      <td>22.000000</td>\n",
       "      <td>37.970000</td>\n",
       "      <td>50.000000</td>\n",
       "    </tr>\n",
       "  </tbody>\n",
       "</table>\n",
       "</div>"
      ],
      "text/plain": [
       "             CRIM          ZN       INDUS         NOX          RM         AGE  \\\n",
       "count  506.000000  506.000000  506.000000  506.000000  506.000000  506.000000   \n",
       "mean     3.613524   11.363636   11.136779    0.554695    6.284634   68.574901   \n",
       "std      8.601545   23.322453    6.860353    0.115878    0.702617   28.148861   \n",
       "min      0.006320    0.000000    0.460000    0.385000    3.561000    2.900000   \n",
       "25%      0.082045    0.000000    5.190000    0.449000    5.885500   45.025000   \n",
       "50%      0.256510    0.000000    9.690000    0.538000    6.208500   77.500000   \n",
       "75%      3.677082   12.500000   18.100000    0.624000    6.623500   94.075000   \n",
       "max     88.976200  100.000000   27.740000    0.871000    8.780000  100.000000   \n",
       "\n",
       "              DIS         RAD         TAX     PTRATIO       LSTAT        MEDV  \n",
       "count  506.000000  506.000000  506.000000  506.000000  506.000000  506.000000  \n",
       "mean     3.795043    9.549407  408.237154   18.455534   12.653063   22.532806  \n",
       "std      2.105710    8.707259  168.537116    2.164946    7.141062    9.197104  \n",
       "min      1.129600    1.000000  187.000000   12.600000    1.730000    5.000000  \n",
       "25%      2.100175    4.000000  279.000000   17.400000    6.950000   17.025000  \n",
       "50%      3.207450    5.000000  330.000000   19.050000   11.360000   21.200000  \n",
       "75%      5.188425   24.000000  666.000000   20.200000   16.955000   25.000000  \n",
       "max     12.126500   24.000000  711.000000   22.000000   37.970000   50.000000  "
      ]
     },
     "execution_count": 9,
     "metadata": {},
     "output_type": "execute_result"
    }
   ],
   "source": [
    "df.describe()"
   ]
  },
  {
   "cell_type": "markdown",
   "metadata": {
    "slideshow": {
     "slide_type": "slide"
    }
   },
   "source": [
    "# Other Pandas functionality: descriptive statistics\n",
    "\n",
    "* We can also get descriptive statistical information about individual columns:"
   ]
  },
  {
   "cell_type": "code",
   "execution_count": 10,
   "metadata": {
    "slideshow": {
     "slide_type": "fragment"
    }
   },
   "outputs": [
    {
     "data": {
      "text/plain": [
       "3.6135235573122535"
      ]
     },
     "execution_count": 10,
     "metadata": {},
     "output_type": "execute_result"
    }
   ],
   "source": [
    "df.CRIM.mean() # average of column"
   ]
  },
  {
   "cell_type": "code",
   "execution_count": 11,
   "metadata": {
    "slideshow": {
     "slide_type": "fragment"
    }
   },
   "outputs": [
    {
     "data": {
      "text/plain": [
       "0    Low\n",
       "dtype: object"
      ]
     },
     "execution_count": 11,
     "metadata": {},
     "output_type": "execute_result"
    }
   ],
   "source": [
    "df['CAT. MEDV'].mode() # most common value of column"
   ]
  },
  {
   "cell_type": "code",
   "execution_count": 12,
   "metadata": {
    "slideshow": {
     "slide_type": "fragment"
    }
   },
   "outputs": [
    {
     "data": {
      "text/plain": [
       "array([ 1,  2,  3,  5,  4,  8,  6,  7, 24])"
      ]
     },
     "execution_count": 12,
     "metadata": {},
     "output_type": "execute_result"
    }
   ],
   "source": [
    "df.RAD.unique() # list of all the unique values in column"
   ]
  },
  {
   "cell_type": "markdown",
   "metadata": {
    "slideshow": {
     "slide_type": "slide"
    }
   },
   "source": [
    "# Other Pandas functionality: missing values\n",
    "\n",
    "* Many predictive algorithms have trouble dealing with missing (null) values. \n",
    "\n",
    "\n",
    "* We can easily find out whether each column has any missing values."
   ]
  },
  {
   "cell_type": "code",
   "execution_count": 13,
   "metadata": {
    "slideshow": {
     "slide_type": "fragment"
    }
   },
   "outputs": [
    {
     "name": "stdout",
     "output_type": "stream",
     "text": [
      "CRIM         0\n",
      "ZN           0\n",
      "INDUS        0\n",
      "CHAS         0\n",
      "NOX          0\n",
      "RM           0\n",
      "AGE          0\n",
      "DIS          0\n",
      "RAD          0\n",
      "TAX          0\n",
      "PTRATIO      0\n",
      "LSTAT        0\n",
      "MEDV         0\n",
      "CAT. MEDV    0\n",
      "dtype: int64\n"
     ]
    }
   ],
   "source": [
    "missingValues = df.isnull().sum()\n",
    "print(missingValues)"
   ]
  },
  {
   "cell_type": "markdown",
   "metadata": {
    "slideshow": {
     "slide_type": "fragment"
    }
   },
   "source": [
    "* So here missing values are not a concern. If they were, we could fill them with some particular value. \n"
   ]
  },
  {
   "cell_type": "code",
   "execution_count": 14,
   "metadata": {
    "collapsed": true,
    "slideshow": {
     "slide_type": "fragment"
    }
   },
   "outputs": [],
   "source": [
    "df.CRIM.fillna(0,inplace=True) # fill all missing values directly in place in CRIM column with 0"
   ]
  },
  {
   "cell_type": "markdown",
   "metadata": {
    "slideshow": {
     "slide_type": "slide"
    }
   },
   "source": [
    "# Your turn\n",
    "\n",
    "* Create a new notebook. \n",
    "\n",
    "* Load the data in ToyotaCorolla.csv.\n",
    "\n",
    "* Using the data dictionary below, determine whether each variable currently has the correct type.\n",
    "\n",
    "* In the Met_Color and Automatic columns, replace 0 with \"No\" and 1 with \"Yes\".\n",
    "\n",
    "* Find the mean of Price and the mode of Fuel_Type."
   ]
  },
  {
   "cell_type": "markdown",
   "metadata": {
    "slideshow": {
     "slide_type": "subslide"
    }
   },
   "source": [
    "## Data dictionary\n",
    "\n",
    "* Price: Offer price in euros\n",
    "* Age: Age in months\n",
    "* KM: Number of kilometers the car has driven\n",
    "* Fuel_Type: Fuel type (Petrol, Diesel, Compressed Natural Gas [CNG])\n",
    "* HP: Horsepower\n",
    "* Met_Color: Metallic color? (Yes = 1, No = 0)\n",
    "* Automatic: Automatic? (Yes = 1, No = 0)\n",
    "* cc: Cylinder volume in cubic centimeters\n",
    "* Doors: Number of doors\n",
    "* Weight: Weight in kilograms"
   ]
  },
  {
   "cell_type": "code",
   "execution_count": null,
   "metadata": {
    "collapsed": true
   },
   "outputs": [],
   "source": []
  }
 ],
 "metadata": {
  "celltoolbar": "Slideshow",
  "kernelspec": {
   "display_name": "Python 3",
   "language": "python",
   "name": "python3"
  },
  "language_info": {
   "codemirror_mode": {
    "name": "ipython",
    "version": 3
   },
   "file_extension": ".py",
   "mimetype": "text/x-python",
   "name": "python",
   "nbconvert_exporter": "python",
   "pygments_lexer": "ipython3",
   "version": "3.6.3"
  },
  "nbpresent": {
   "slides": {
    "0fd99245-738f-4214-8190-012f88ed4ec5": {
     "id": "0fd99245-738f-4214-8190-012f88ed4ec5",
     "prev": "f9d7abf0-119a-4e4b-9823-4ef5bb0ec8f4",
     "regions": {
      "068aeae6-8108-4874-97ff-5bdbc90e5538": {
       "attrs": {
        "height": 0.8,
        "width": 0.8,
        "x": 0.1,
        "y": 0.1
       },
       "content": {
        "cell": "7be927a4-ddb6-41a8-a847-3c70ac604cc0",
        "part": "whole"
       },
       "id": "068aeae6-8108-4874-97ff-5bdbc90e5538"
      }
     }
    },
    "12f7a19c-f897-4020-93c9-d1d66a72938b": {
     "id": "12f7a19c-f897-4020-93c9-d1d66a72938b",
     "prev": "546132ae-97d3-49b8-b02f-cc2a8e6d7f5e",
     "regions": {
      "650312c4-def8-422c-8c50-0b6a336b94a9": {
       "attrs": {
        "height": 0.8,
        "width": 0.8,
        "x": 0.1,
        "y": 0.1
       },
       "content": {
        "cell": "1812e90d-880e-4267-a6ec-4c78e805495a",
        "part": "whole"
       },
       "id": "650312c4-def8-422c-8c50-0b6a336b94a9"
      }
     }
    },
    "13ac9d59-0eb1-47fb-a0a5-809f145570fa": {
     "id": "13ac9d59-0eb1-47fb-a0a5-809f145570fa",
     "prev": "b3845781-f334-4dae-a599-840ade61fc27",
     "regions": {
      "c3d8174d-adb0-4119-8702-412841ff6fac": {
       "attrs": {
        "height": 0.8,
        "width": 0.8,
        "x": 0.1,
        "y": 0.1
       },
       "content": {
        "cell": "2a856361-e46e-4d69-a15a-5807e6f4051e",
        "part": "whole"
       },
       "id": "c3d8174d-adb0-4119-8702-412841ff6fac"
      }
     }
    },
    "28140af8-3e98-4330-b058-a8d4b2e70ba2": {
     "id": "28140af8-3e98-4330-b058-a8d4b2e70ba2",
     "prev": "a56806cd-e5d0-4a65-ad97-060c73e6fa69",
     "regions": {
      "2ddb725d-17cf-47bb-9c55-4ac7345f41d3": {
       "attrs": {
        "height": 0.4,
        "width": 0.8,
        "x": 0.1,
        "y": 0.5
       },
       "content": {
        "cell": "14c0452d-a790-471d-8f51-d81fb6ddd867",
        "part": "whole"
       },
       "id": "2ddb725d-17cf-47bb-9c55-4ac7345f41d3"
      },
      "42cf3dda-e088-4aa4-99c8-22f1811d928e": {
       "attrs": {
        "height": 0.4,
        "width": 0.8,
        "x": 0.1,
        "y": 0.5
       },
       "content": {
        "cell": "15dce4a0-d5bb-4ed5-9528-95f6653771d2",
        "part": "whole"
       },
       "id": "42cf3dda-e088-4aa4-99c8-22f1811d928e"
      },
      "8decc389-0ea0-41a7-a3d9-79f9d7ac10e5": {
       "attrs": {
        "height": 0.4,
        "width": 0.8,
        "x": 0.1,
        "y": 0.5
       },
       "content": {
        "cell": "dfb28af3-9bd8-45c0-9c12-2f8a36aa896b",
        "part": "whole"
       },
       "id": "8decc389-0ea0-41a7-a3d9-79f9d7ac10e5"
      },
      "9490a182-ae92-419c-9d55-b02c21573596": {
       "attrs": {
        "height": 0.8,
        "width": 0.8,
        "x": 0.1,
        "y": 0.1
       },
       "content": {
        "cell": "315e4866-e6bf-45f2-887b-23c968af973e",
        "part": "whole"
       },
       "id": "9490a182-ae92-419c-9d55-b02c21573596"
      },
      "97c3be1c-58bd-4276-baab-87977e0a25c2": {
       "attrs": {
        "height": 0.4,
        "width": 0.8,
        "x": 0.1,
        "y": 0.5
       },
       "content": {
        "cell": "b13468df-9c58-4f9a-894f-0bcd63a91457",
        "part": "whole"
       },
       "id": "97c3be1c-58bd-4276-baab-87977e0a25c2"
      },
      "9b167616-5251-4376-aa85-da358f3e78fd": {
       "attrs": {
        "height": 0.4,
        "width": 0.8,
        "x": 0.1,
        "y": 0.5
       },
       "content": {
        "cell": "e413e88c-c3b0-461d-a426-95fcd68f0e49",
        "part": "whole"
       },
       "id": "9b167616-5251-4376-aa85-da358f3e78fd"
      },
      "b0c41b88-7e78-486d-8b8d-fa1c0d63002c": {
       "attrs": {
        "height": 0.4,
        "width": 0.8,
        "x": 0.1,
        "y": 0.5
       },
       "content": {
        "cell": "d5e3644e-4401-47ea-863e-247ed5eb6219",
        "part": "whole"
       },
       "id": "b0c41b88-7e78-486d-8b8d-fa1c0d63002c"
      },
      "d40552af-c0b7-4eb0-86d3-315247f900ec": {
       "attrs": {
        "height": 0.4,
        "width": 0.8,
        "x": 0.1,
        "y": 0.5
       },
       "content": {
        "cell": "0d516a3f-b4b3-4ce5-b47b-4dd8b6766a7b",
        "part": "whole"
       },
       "id": "d40552af-c0b7-4eb0-86d3-315247f900ec"
      },
      "e2a84f07-165b-46ad-845d-b7c8ab6a0504": {
       "attrs": {
        "height": 0.4,
        "width": 0.8,
        "x": 0.1,
        "y": 0.5
       },
       "content": {
        "cell": "8003d888-1cf1-4136-a38f-42f714b9988e",
        "part": "whole"
       },
       "id": "e2a84f07-165b-46ad-845d-b7c8ab6a0504"
      },
      "f021a429-2eef-4dcc-8fda-1f3a1a5dee3a": {
       "attrs": {
        "height": 0.4,
        "width": 0.8,
        "x": 0.1,
        "y": 0.5
       },
       "content": {
        "cell": "e70278ad-56cc-4f88-80be-f2533a469879",
        "part": "whole"
       },
       "id": "f021a429-2eef-4dcc-8fda-1f3a1a5dee3a"
      },
      "f34a386d-1cbb-4648-a0b2-a50790b79b87": {
       "attrs": {
        "height": 0.4,
        "width": 0.8,
        "x": 0.1,
        "y": 0.5
       },
       "content": {
        "cell": "0d96c601-3ca4-4eca-ad51-db3bad868844",
        "part": "whole"
       },
       "id": "f34a386d-1cbb-4648-a0b2-a50790b79b87"
      }
     }
    },
    "28ff4a49-37cc-4a9b-99ec-5a47b9c14a73": {
     "id": "28ff4a49-37cc-4a9b-99ec-5a47b9c14a73",
     "prev": "0fd99245-738f-4214-8190-012f88ed4ec5",
     "regions": {
      "da83f60a-fdc6-4811-bb85-7f6bace4a24f": {
       "attrs": {
        "height": 0.8,
        "width": 0.8,
        "x": 0.1,
        "y": 0.1
       },
       "content": {
        "cell": "4bf4e1c6-b7c5-4f54-8f6d-913326bd00f5",
        "part": "whole"
       },
       "id": "da83f60a-fdc6-4811-bb85-7f6bace4a24f"
      }
     }
    },
    "546132ae-97d3-49b8-b02f-cc2a8e6d7f5e": {
     "id": "546132ae-97d3-49b8-b02f-cc2a8e6d7f5e",
     "prev": "28ff4a49-37cc-4a9b-99ec-5a47b9c14a73",
     "regions": {
      "b878194e-381e-40bb-99f0-6cd3a6dbe605": {
       "attrs": {
        "height": 0.8,
        "width": 0.8,
        "x": 0.1,
        "y": 0.1
       },
       "content": {
        "cell": "19baa940-f866-4eb4-b246-773c5715defe",
        "part": "whole"
       },
       "id": "b878194e-381e-40bb-99f0-6cd3a6dbe605"
      }
     }
    },
    "a56806cd-e5d0-4a65-ad97-060c73e6fa69": {
     "id": "a56806cd-e5d0-4a65-ad97-060c73e6fa69",
     "prev": "12f7a19c-f897-4020-93c9-d1d66a72938b",
     "regions": {
      "50dc87b0-2f38-4822-bd59-ecaf14741700": {
       "attrs": {
        "height": 0.8,
        "width": 0.8,
        "x": 0.1,
        "y": 0.1
       },
       "content": {
        "cell": "a3b97077-ca60-49c3-95d5-7d2baaee53eb",
        "part": "whole"
       },
       "id": "50dc87b0-2f38-4822-bd59-ecaf14741700"
      }
     }
    },
    "b3845781-f334-4dae-a599-840ade61fc27": {
     "id": "b3845781-f334-4dae-a599-840ade61fc27",
     "prev": null,
     "regions": {
      "4732457e-8e48-4a88-9214-4b3a60925aa8": {
       "attrs": {
        "height": 0.8,
        "width": 0.8,
        "x": 0.1,
        "y": 0.1
       },
       "content": {
        "cell": "30f16c63-f710-4685-a328-88cb991ef461",
        "part": "whole"
       },
       "id": "4732457e-8e48-4a88-9214-4b3a60925aa8"
      }
     }
    },
    "f9d7abf0-119a-4e4b-9823-4ef5bb0ec8f4": {
     "id": "f9d7abf0-119a-4e4b-9823-4ef5bb0ec8f4",
     "prev": "13ac9d59-0eb1-47fb-a0a5-809f145570fa",
     "regions": {
      "b228052a-621f-472b-8449-e4fdffb91c2c": {
       "attrs": {
        "height": 0.8,
        "width": 0.8,
        "x": 0.1,
        "y": 0.1
       },
       "content": {
        "cell": "58932001-5b7d-42dc-8f7e-829907963adb",
        "part": "whole"
       },
       "id": "b228052a-621f-472b-8449-e4fdffb91c2c"
      }
     }
    }
   },
   "themes": {}
  }
 },
 "nbformat": 4,
 "nbformat_minor": 1
}
