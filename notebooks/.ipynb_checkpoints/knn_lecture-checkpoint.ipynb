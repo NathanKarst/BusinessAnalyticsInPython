{
 "cells": [
  {
   "cell_type": "markdown",
   "metadata": {
    "slideshow": {
     "slide_type": "slide"
    }
   },
   "source": [
    "# $k$-nearest neighors\n",
    "\n",
    "---\n",
    "\n",
    "\n",
    "## Nathan Karst"
   ]
  },
  {
   "cell_type": "markdown",
   "metadata": {
    "slideshow": {
     "slide_type": "slide"
    }
   },
   "source": [
    "![alt text](https://www.dropbox.com/s/acoelg7u7acljii/knn_example_0.png?raw=1)\n",
    "\n",
    "* Imagine we have three values of our target: red triangle, blue square, and green circle. \n",
    "\n",
    "\n",
    "* Here, we have just two predictors, $X_1$ and $X_2$. \n",
    "\n",
    "\n",
    "* Notice that both have a range of [0,1]. We'll talk about why this is later. "
   ]
  },
  {
   "cell_type": "markdown",
   "metadata": {
    "slideshow": {
     "slide_type": "slide"
    }
   },
   "source": [
    "![alt text](https://www.dropbox.com/s/5vdx9ykam4mj2vn/knn_example_1.png?raw=1)\n",
    "\n",
    "* Imagine we receive a new record represented by the black triangle. \n",
    "\n",
    "\n",
    "* How should we classify this new data point? It makes sense to compare the new point to the most similar known points.\n",
    "\n",
    "\n",
    "* It appears to be in the red region, but the single point most similar to it is blue.\n",
    "\n",
    "\n",
    "* How do we resolve this?"
   ]
  },
  {
   "cell_type": "markdown",
   "metadata": {},
   "source": [
    "![alt text](https://www.dropbox.com/s/5vdx9ykam4mj2vn/knn_example_1.png?raw=1)\n",
    "\n",
    "* In $k$-nearest neighbors, we make the $k$ closest points to our new, unknown data point \"vote\" on what our prediction should be.\n",
    "\n",
    "\n",
    "* Imagine $k = 1$. The closest neighbor to our new point is blue, and so our prediction would be blue.\n",
    "\n",
    "\n",
    "* Imagine $k = 3$. Of the $k = 3$ closest neighbors, 2 are red, and 1 is blue, so our prediction would be red. \n",
    "\n",
    "\n",
    "* Imagine $k = 5$. Of the $k = 5$ closest neighbors, 3 are red, and 2 are blue, so our prediction would be red. \n"
   ]
  },
  {
   "cell_type": "markdown",
   "metadata": {
    "slideshow": {
     "slide_type": "slide"
    }
   },
   "source": [
    "![alt text](https://www.dropbox.com/s/tmnpkpx1c6hm15h/knn_example_2.png?raw=1)\n",
    "\n",
    "* Now imagine we get a new unclassified point, again represented by the black triangle.\n",
    "\n",
    "\n",
    "\n",
    "* What are the predictions when $k = 1, 3, 5, 7$?\n"
   ]
  },
  {
   "cell_type": "markdown",
   "metadata": {
    "slideshow": {
     "slide_type": "slide"
    }
   },
   "source": [
    "![alt text](https://www.dropbox.com/s/rxb2n79ry6ox28a/knn_example_3.png?raw=1)\n",
    "\n",
    "\n",
    "* Note that $k$-nearest neighbors will make a prediction even when there are not many neighbors nearby. \n",
    "\n",
    "\n",
    "\n"
   ]
  },
  {
   "cell_type": "markdown",
   "metadata": {
    "slideshow": {
     "slide_type": "slide"
    }
   },
   "source": [
    "* When we're talking about \"nearest\" here, we're really referring to Euclidean distance. \n",
    "\n",
    "\n",
    "* The distance between two points in the plane $(x_1, y_1)$ and $(x_2, y_2)$ is\n",
    "<br>\n",
    "<br>\n",
    "$$d = \\sqrt{(x_1 - x_2)^2 + (y_1 - y_2)^2}.$$\n",
    "<br>\n",
    "* This generalizes really nicely to cases where we have more than two predictors.\n",
    "\n",
    "\n",
    "* The distance between two points $(u_1, u_2, \\ldots, u_p)$ and $(v_1, v_2, \\ldots, v_p)$ is\n",
    "<br>\n",
    "<br>\n",
    "$$d = \\sqrt{(u_1 - v_1)^2 + (u_2 - v_2)^2 + \\ldots + (u_p - v_p)^2}.$$ \n",
    "<br>\n",
    "* **Note: talking about distance only makes sense when we have numeric inputs!**\n"
   ]
  },
  {
   "cell_type": "markdown",
   "metadata": {},
   "source": [
    "# An example\n",
    "\n",
    "\n",
    "* Let's look again at `BostonHousing`.\n",
    "\n",
    "\n",
    "* This time around, we're going to try to predict whether a neighborhood's median home value is above $30,000 or not. This is captured in the variable `CAT. MEDV`. \n",
    "\n",
    "\n",
    "* But why use a categorical target instead of a numerical one? Complexity and cost are higher for numerical variables - it takes less time and money to figure out whether a neighborhood has high or low value homes than it does to figure out exactly what that median value is. "
   ]
  },
  {
   "cell_type": "markdown",
   "metadata": {
    "slideshow": {
     "slide_type": "slide"
    }
   },
   "source": [
    "# Setup \n",
    "\n",
    "* As always, we'll need to load some packages before we get started. \n",
    "\n",
    "\n",
    "* Most of these we've used before. \n",
    "\n",
    "\n",
    "* The exceptions are\n",
    "    * `from sklearn import neighbors`: this is where the actual knn function we'll be using lives\n",
    "    * `import numpy as np`: `numpy` (short for \"numerical python\") is a really common library to teach up with `pandas` and `sklearn`. We'll use this to help us select only the numerical columns in the data frame."
   ]
  },
  {
   "cell_type": "code",
   "execution_count": 15,
   "metadata": {
    "collapsed": true,
    "slideshow": {
     "slide_type": "fragment"
    }
   },
   "outputs": [],
   "source": [
    "import pandas as pd\n",
    "import seaborn as sns\n",
    "import BabsonAnalytics\n",
    "import numpy as np\n",
    "%matplotlib inline"
   ]
  },
  {
   "cell_type": "markdown",
   "metadata": {
    "slideshow": {
     "slide_type": "slide"
    }
   },
   "source": [
    "# Load and manage\n",
    "\n",
    "* Loading is the same as always"
   ]
  },
  {
   "cell_type": "code",
   "execution_count": 69,
   "metadata": {
    "collapsed": true,
    "slideshow": {
     "slide_type": "fragment"
    }
   },
   "outputs": [],
   "source": [
    "df = pd.read_csv('../data/BostonHousing.csv')"
   ]
  },
  {
   "cell_type": "markdown",
   "metadata": {
    "slideshow": {
     "slide_type": "fragment"
    }
   },
   "source": [
    "* To manage, we first should make all necessary numeric to categoric conversions.\n",
    "\n",
    "\n",
    "* Notice that since we're predicting a categorical version of median value, we can't really use the *actual* median value as a predictor - this has to go!"
   ]
  },
  {
   "cell_type": "code",
   "execution_count": 70,
   "metadata": {
    "collapsed": false,
    "slideshow": {
     "slide_type": "fragment"
    }
   },
   "outputs": [
    {
     "data": {
      "text/html": [
       "<div>\n",
       "<table border=\"1\" class=\"dataframe\">\n",
       "  <thead>\n",
       "    <tr style=\"text-align: right;\">\n",
       "      <th></th>\n",
       "      <th>CRIM</th>\n",
       "      <th>ZN</th>\n",
       "      <th>INDUS</th>\n",
       "      <th>NOX</th>\n",
       "      <th>RM</th>\n",
       "      <th>AGE</th>\n",
       "      <th>DIS</th>\n",
       "      <th>RAD</th>\n",
       "      <th>TAX</th>\n",
       "      <th>PTRATIO</th>\n",
       "      <th>LSTAT</th>\n",
       "      <th>CAT. MEDV</th>\n",
       "    </tr>\n",
       "  </thead>\n",
       "  <tbody>\n",
       "    <tr>\n",
       "      <th>0</th>\n",
       "      <td>0.00632</td>\n",
       "      <td>18.0</td>\n",
       "      <td>2.31</td>\n",
       "      <td>0.538</td>\n",
       "      <td>6.575</td>\n",
       "      <td>65.2</td>\n",
       "      <td>4.0900</td>\n",
       "      <td>1</td>\n",
       "      <td>296</td>\n",
       "      <td>15.3</td>\n",
       "      <td>4.98</td>\n",
       "      <td>0</td>\n",
       "    </tr>\n",
       "    <tr>\n",
       "      <th>1</th>\n",
       "      <td>0.02731</td>\n",
       "      <td>0.0</td>\n",
       "      <td>7.07</td>\n",
       "      <td>0.469</td>\n",
       "      <td>6.421</td>\n",
       "      <td>78.9</td>\n",
       "      <td>4.9671</td>\n",
       "      <td>2</td>\n",
       "      <td>242</td>\n",
       "      <td>17.8</td>\n",
       "      <td>9.14</td>\n",
       "      <td>0</td>\n",
       "    </tr>\n",
       "    <tr>\n",
       "      <th>2</th>\n",
       "      <td>0.02729</td>\n",
       "      <td>0.0</td>\n",
       "      <td>7.07</td>\n",
       "      <td>0.469</td>\n",
       "      <td>7.185</td>\n",
       "      <td>61.1</td>\n",
       "      <td>4.9671</td>\n",
       "      <td>2</td>\n",
       "      <td>242</td>\n",
       "      <td>17.8</td>\n",
       "      <td>4.03</td>\n",
       "      <td>1</td>\n",
       "    </tr>\n",
       "    <tr>\n",
       "      <th>3</th>\n",
       "      <td>0.03237</td>\n",
       "      <td>0.0</td>\n",
       "      <td>2.18</td>\n",
       "      <td>0.458</td>\n",
       "      <td>6.998</td>\n",
       "      <td>45.8</td>\n",
       "      <td>6.0622</td>\n",
       "      <td>3</td>\n",
       "      <td>222</td>\n",
       "      <td>18.7</td>\n",
       "      <td>2.94</td>\n",
       "      <td>1</td>\n",
       "    </tr>\n",
       "    <tr>\n",
       "      <th>4</th>\n",
       "      <td>0.06905</td>\n",
       "      <td>0.0</td>\n",
       "      <td>2.18</td>\n",
       "      <td>0.458</td>\n",
       "      <td>7.147</td>\n",
       "      <td>54.2</td>\n",
       "      <td>6.0622</td>\n",
       "      <td>3</td>\n",
       "      <td>222</td>\n",
       "      <td>18.7</td>\n",
       "      <td>5.33</td>\n",
       "      <td>1</td>\n",
       "    </tr>\n",
       "  </tbody>\n",
       "</table>\n",
       "</div>"
      ],
      "text/plain": [
       "      CRIM    ZN  INDUS    NOX     RM   AGE     DIS  RAD  TAX  PTRATIO  LSTAT  \\\n",
       "0  0.00632  18.0   2.31  0.538  6.575  65.2  4.0900    1  296     15.3   4.98   \n",
       "1  0.02731   0.0   7.07  0.469  6.421  78.9  4.9671    2  242     17.8   9.14   \n",
       "2  0.02729   0.0   7.07  0.469  7.185  61.1  4.9671    2  242     17.8   4.03   \n",
       "3  0.03237   0.0   2.18  0.458  6.998  45.8  6.0622    3  222     18.7   2.94   \n",
       "4  0.06905   0.0   2.18  0.458  7.147  54.2  6.0622    3  222     18.7   5.33   \n",
       "\n",
       "   CAT. MEDV  \n",
       "0          0  \n",
       "1          0  \n",
       "2          1  \n",
       "3          1  \n",
       "4          1  "
      ]
     },
     "execution_count": 70,
     "metadata": {},
     "output_type": "execute_result"
    }
   ],
   "source": [
    "df.CHAS = df.CHAS.astype(\"category\")\n",
    "df.drop('MEDV',axis=1,inplace=True)\n",
    "\n",
    "df = df.select_dtypes(include=[np.number])\n",
    "df.head()"
   ]
  },
  {
   "cell_type": "markdown",
   "metadata": {
    "slideshow": {
     "slide_type": "slide"
    }
   },
   "source": [
    "# Partition\n",
    "\n",
    "* This works the same as it did with linear models. "
   ]
  },
  {
   "cell_type": "code",
   "execution_count": 71,
   "metadata": {
    "collapsed": false,
    "slideshow": {
     "slide_type": "fragment"
    }
   },
   "outputs": [],
   "source": [
    "train = df.sample(frac=0.8)\n",
    "test = df.drop(train.index)\n",
    "\n",
    "trainTarget = train.pop('CAT. MEDV')\n",
    "testTarget = test.pop('CAT. MEDV')"
   ]
  },
  {
   "cell_type": "markdown",
   "metadata": {
    "slideshow": {
     "slide_type": "slide"
    }
   },
   "source": [
    "# Build\n",
    "\n",
    "* As with linear models, with knn we must\n",
    "    * make an empty model\n",
    "    * fit the empty model to the training data\n",
    "    \n",
    "    \n",
    "* Let's use $k = 15$ for now. (We'll talk about how we might think about finding the \"best\" value of $k$ later.)"
   ]
  },
  {
   "cell_type": "code",
   "execution_count": 72,
   "metadata": {
    "collapsed": false,
    "slideshow": {
     "slide_type": "fragment"
    }
   },
   "outputs": [
    {
     "data": {
      "text/plain": [
       "KNeighborsClassifier(algorithm='auto', leaf_size=30, metric='minkowski',\n",
       "           metric_params=None, n_jobs=1, n_neighbors=15, p=2,\n",
       "           weights='uniform')"
      ]
     },
     "execution_count": 72,
     "metadata": {},
     "output_type": "execute_result"
    }
   ],
   "source": [
    "from sklearn import neighbors\n",
    "model = neighbors.KNeighborsClassifier(n_neighbors=15)\n",
    "model.fit(train,trainTarget)"
   ]
  },
  {
   "cell_type": "markdown",
   "metadata": {
    "slideshow": {
     "slide_type": "slide"
    }
   },
   "source": [
    "# Predict\n",
    "\n",
    "* Predicting works *exactly* the same here as it did in linear models. "
   ]
  },
  {
   "cell_type": "code",
   "execution_count": 73,
   "metadata": {
    "collapsed": false,
    "slideshow": {
     "slide_type": "fragment"
    }
   },
   "outputs": [],
   "source": [
    "predictions = model.predict(test)"
   ]
  },
  {
   "cell_type": "markdown",
   "metadata": {
    "slideshow": {
     "slide_type": "slide"
    }
   },
   "source": [
    "# Evaluate\n",
    "\n",
    "\n",
    "* When predicting categorical targets, there is in general no notion of being \"close\" - we either get the prediction right or wrong - and our notions of model performance need to reflect this.\n",
    "\n",
    "\n",
    "* The **error rate** of a set of predictions is simply the number of incorrect predictions divided by the total number total predictions:\n",
    "<br>\n",
    "<br>\n",
    "$$\\mbox{error rate} = \\frac{\\#(\\mbox{predictions} \\neq \\mbox{observations})}{\\#(\\mbox{predictions})}$$\n",
    "<br>\n",
    "* In Python,"
   ]
  },
  {
   "cell_type": "code",
   "execution_count": 74,
   "metadata": {
    "collapsed": false,
    "slideshow": {
     "slide_type": "fragment"
    }
   },
   "outputs": [
    {
     "name": "stdout",
     "output_type": "stream",
     "text": [
      "Error rate:  0.128712871287\n"
     ]
    }
   ],
   "source": [
    "correct = predictions == testTarget\n",
    "incorrect = predictions != testTarget\n",
    "error_rate = sum(predictions != testTarget)/len(predictions)\n",
    "print('Error rate: ', error_rate)"
   ]
  },
  {
   "cell_type": "markdown",
   "metadata": {
    "slideshow": {
     "slide_type": "slide"
    }
   },
   "source": [
    "# Benchmark error rate\n",
    "\n",
    "* Is this error rate good or bad? \n",
    "\n",
    "\n",
    "* We need to compare any observed error rate to *something* in order to figure out whether it was worth collecting the data, building the model, and predicting the target at all!\n",
    "\n",
    "\n",
    "* The **benchmark error rate** for categorical targets is the error rate we would have achieved if we had simply used the most common target value in the training data set as our prediction for every record in test.\n",
    "\n",
    "\n",
    "* For instance, if more neighborhoods were low value in the training, we would predict that *every* neighborhood in the test as low value. We would be right part of the time and wrong part of the time. The fraction of the total number of predictions we got wrong would be our benchmark error rate.\n",
    "\n"
   ]
  },
  {
   "cell_type": "code",
   "execution_count": 75,
   "metadata": {
    "collapsed": false,
    "slideshow": {
     "slide_type": "fragment"
    }
   },
   "outputs": [
    {
     "name": "stdout",
     "output_type": "stream",
     "text": [
      "Error rate:  0.128712871287\n",
      "Benchmark:  0.158415841584\n"
     ]
    }
   ],
   "source": [
    "bench_rate = BabsonAnalytics.benchmarkErrorRate(trainTarget,testTarget)\n",
    "print('Error rate: ', error_rate)\n",
    "print('Benchmark: ',bench_rate)"
   ]
  },
  {
   "cell_type": "markdown",
   "metadata": {
    "slideshow": {
     "slide_type": "fragment"
    }
   },
   "source": [
    "* Since our error rate is better than the benchmark, we conclude that our model is good."
   ]
  },
  {
   "cell_type": "markdown",
   "metadata": {},
   "source": [
    "# Types of errors\n",
    "\n",
    "* In practice, not all errors are the same - some can be much more expensive than others.\n",
    "\n",
    "\n",
    "* We can start to get a handle on the types of errors we're making by looking at the **confusion matrix** associated with our predictions."
   ]
  },
  {
   "cell_type": "code",
   "execution_count": 76,
   "metadata": {
    "collapsed": false,
    "slideshow": {
     "slide_type": "fragment"
    }
   },
   "outputs": [
    {
     "data": {
      "text/html": [
       "<div>\n",
       "<table border=\"1\" class=\"dataframe\">\n",
       "  <thead>\n",
       "    <tr style=\"text-align: right;\">\n",
       "      <th>Observations</th>\n",
       "      <th>0</th>\n",
       "      <th>1</th>\n",
       "    </tr>\n",
       "    <tr>\n",
       "      <th>Predictions</th>\n",
       "      <th></th>\n",
       "      <th></th>\n",
       "    </tr>\n",
       "  </thead>\n",
       "  <tbody>\n",
       "    <tr>\n",
       "      <th>0</th>\n",
       "      <td>84</td>\n",
       "      <td>12</td>\n",
       "    </tr>\n",
       "    <tr>\n",
       "      <th>1</th>\n",
       "      <td>1</td>\n",
       "      <td>4</td>\n",
       "    </tr>\n",
       "  </tbody>\n",
       "</table>\n",
       "</div>"
      ],
      "text/plain": [
       "Observations   0   1\n",
       "Predictions         \n",
       "0             84  12\n",
       "1              1   4"
      ]
     },
     "execution_count": 76,
     "metadata": {},
     "output_type": "execute_result"
    }
   ],
   "source": [
    "confusion_matrix = BabsonAnalytics.confusionMatrix(predictions,testTarget)\n",
    "confusion_matrix"
   ]
  },
  {
   "cell_type": "code",
   "execution_count": 77,
   "metadata": {
    "collapsed": false,
    "slideshow": {
     "slide_type": "fragment"
    }
   },
   "outputs": [
    {
     "data": {
      "text/plain": [
       "<matplotlib.axes._subplots.AxesSubplot at 0x117a638d0>"
      ]
     },
     "execution_count": 77,
     "metadata": {},
     "output_type": "execute_result"
    },
    {
     "data": {
      "image/png": "[encoded data removed]",
      "text/plain": [
       "<matplotlib.figure.Figure at 0x117a62160>"
      ]
     },
     "metadata": {},
     "output_type": "display_data"
    }
   ],
   "source": [
    "sns.heatmap(confusion_matrix,annot=True)"
   ]
  },
  {
   "cell_type": "markdown",
   "metadata": {
    "slideshow": {
     "slide_type": "slide"
    }
   },
   "source": [
    "# False positives and false negatives\n",
    "\n",
    "* A false positive occurs when we predict 1 but observe 0 - we falsely think the positive outcome would happen.\n",
    "\n",
    "\n",
    "* In the example of `BostonHousing`, a false positive would mean that we thought a neighborhood would have high value homes (target value 1) when in fact it had low value homes (target value 0)."
   ]
  },
  {
   "cell_type": "code",
   "execution_count": 78,
   "metadata": {
    "collapsed": false,
    "slideshow": {
     "slide_type": "fragment"
    }
   },
   "outputs": [
    {
     "data": {
      "text/html": [
       "<div>\n",
       "<table border=\"1\" class=\"dataframe\">\n",
       "  <thead>\n",
       "    <tr style=\"text-align: right;\">\n",
       "      <th>Observations</th>\n",
       "      <th>0</th>\n",
       "      <th>1</th>\n",
       "    </tr>\n",
       "    <tr>\n",
       "      <th>Predictions</th>\n",
       "      <th></th>\n",
       "      <th></th>\n",
       "    </tr>\n",
       "  </thead>\n",
       "  <tbody>\n",
       "    <tr>\n",
       "      <th>0</th>\n",
       "      <td>84</td>\n",
       "      <td>12</td>\n",
       "    </tr>\n",
       "    <tr>\n",
       "      <th>1</th>\n",
       "      <td>1</td>\n",
       "      <td>4</td>\n",
       "    </tr>\n",
       "  </tbody>\n",
       "</table>\n",
       "</div>"
      ],
      "text/plain": [
       "Observations   0   1\n",
       "Predictions         \n",
       "0             84  12\n",
       "1              1   4"
      ]
     },
     "execution_count": 78,
     "metadata": {},
     "output_type": "execute_result"
    }
   ],
   "source": [
    "confusion_matrix"
   ]
  },
  {
   "cell_type": "markdown",
   "metadata": {
    "slideshow": {
     "slide_type": "fragment"
    }
   },
   "source": [
    "* With these predictions, there are 2 false positives."
   ]
  },
  {
   "cell_type": "markdown",
   "metadata": {
    "slideshow": {
     "slide_type": "slide"
    }
   },
   "source": [
    "# False positives and false negatives\n",
    "\n",
    "* A false negative occurs when we predict 1 but observe 0 - we falsely think the negative outcome would happen.\n",
    "\n",
    "\n",
    "* In the example of `BostonHousing`, a false negative would mean that we thought a neighborhood would have low value (target value 0) homes when in fact it had high value homes (target value 1)."
   ]
  },
  {
   "cell_type": "code",
   "execution_count": 79,
   "metadata": {
    "collapsed": false,
    "slideshow": {
     "slide_type": "fragment"
    }
   },
   "outputs": [
    {
     "data": {
      "text/html": [
       "<div>\n",
       "<table border=\"1\" class=\"dataframe\">\n",
       "  <thead>\n",
       "    <tr style=\"text-align: right;\">\n",
       "      <th>Observations</th>\n",
       "      <th>0</th>\n",
       "      <th>1</th>\n",
       "    </tr>\n",
       "    <tr>\n",
       "      <th>Predictions</th>\n",
       "      <th></th>\n",
       "      <th></th>\n",
       "    </tr>\n",
       "  </thead>\n",
       "  <tbody>\n",
       "    <tr>\n",
       "      <th>0</th>\n",
       "      <td>84</td>\n",
       "      <td>12</td>\n",
       "    </tr>\n",
       "    <tr>\n",
       "      <th>1</th>\n",
       "      <td>1</td>\n",
       "      <td>4</td>\n",
       "    </tr>\n",
       "  </tbody>\n",
       "</table>\n",
       "</div>"
      ],
      "text/plain": [
       "Observations   0   1\n",
       "Predictions         \n",
       "0             84  12\n",
       "1              1   4"
      ]
     },
     "execution_count": 79,
     "metadata": {},
     "output_type": "execute_result"
    }
   ],
   "source": [
    "confusion_matrix"
   ]
  },
  {
   "cell_type": "markdown",
   "metadata": {
    "slideshow": {
     "slide_type": "fragment"
    }
   },
   "source": [
    "* With these predictions, there are 13 false negatives."
   ]
  },
  {
   "cell_type": "markdown",
   "metadata": {
    "slideshow": {
     "slide_type": "slide"
    }
   },
   "source": [
    "# Sensitivity and specificity\n",
    "\n",
    "* The sensitivity of our predictions is the percentage of observations of target value 1 that we predict correctly. \n",
    "\n",
    "\n",
    "* In the example of `BostonHousing`, sensitivity is the percentage of high value homes that we predict correctly."
   ]
  },
  {
   "cell_type": "code",
   "execution_count": 80,
   "metadata": {
    "collapsed": false,
    "slideshow": {
     "slide_type": "fragment"
    }
   },
   "outputs": [
    {
     "data": {
      "text/html": [
       "<div>\n",
       "<table border=\"1\" class=\"dataframe\">\n",
       "  <thead>\n",
       "    <tr style=\"text-align: right;\">\n",
       "      <th>Observations</th>\n",
       "      <th>0</th>\n",
       "      <th>1</th>\n",
       "    </tr>\n",
       "    <tr>\n",
       "      <th>Predictions</th>\n",
       "      <th></th>\n",
       "      <th></th>\n",
       "    </tr>\n",
       "  </thead>\n",
       "  <tbody>\n",
       "    <tr>\n",
       "      <th>0</th>\n",
       "      <td>84</td>\n",
       "      <td>12</td>\n",
       "    </tr>\n",
       "    <tr>\n",
       "      <th>1</th>\n",
       "      <td>1</td>\n",
       "      <td>4</td>\n",
       "    </tr>\n",
       "  </tbody>\n",
       "</table>\n",
       "</div>"
      ],
      "text/plain": [
       "Observations   0   1\n",
       "Predictions         \n",
       "0             84  12\n",
       "1              1   4"
      ]
     },
     "execution_count": 80,
     "metadata": {},
     "output_type": "execute_result"
    }
   ],
   "source": [
    "confusion_matrix"
   ]
  },
  {
   "cell_type": "markdown",
   "metadata": {
    "slideshow": {
     "slide_type": "fragment"
    }
   },
   "source": [
    "* With these predictions, the sensitivity is $4/17 \\approx 24\\%$. "
   ]
  },
  {
   "cell_type": "markdown",
   "metadata": {
    "slideshow": {
     "slide_type": "slide"
    }
   },
   "source": [
    "# Sensitivity and specificity\n",
    "\n",
    "* The specificity of our predictions is the percentage of observations of target value 0 that we predict correctly. \n",
    "\n",
    "\n",
    "* In the example of `BostonHousing`, sensitivity is the percentage of low value homes that we predict correctly."
   ]
  },
  {
   "cell_type": "code",
   "execution_count": 81,
   "metadata": {
    "collapsed": false,
    "slideshow": {
     "slide_type": "fragment"
    }
   },
   "outputs": [
    {
     "data": {
      "text/html": [
       "<div>\n",
       "<table border=\"1\" class=\"dataframe\">\n",
       "  <thead>\n",
       "    <tr style=\"text-align: right;\">\n",
       "      <th>Observations</th>\n",
       "      <th>0</th>\n",
       "      <th>1</th>\n",
       "    </tr>\n",
       "    <tr>\n",
       "      <th>Predictions</th>\n",
       "      <th></th>\n",
       "      <th></th>\n",
       "    </tr>\n",
       "  </thead>\n",
       "  <tbody>\n",
       "    <tr>\n",
       "      <th>0</th>\n",
       "      <td>84</td>\n",
       "      <td>12</td>\n",
       "    </tr>\n",
       "    <tr>\n",
       "      <th>1</th>\n",
       "      <td>1</td>\n",
       "      <td>4</td>\n",
       "    </tr>\n",
       "  </tbody>\n",
       "</table>\n",
       "</div>"
      ],
      "text/plain": [
       "Observations   0   1\n",
       "Predictions         \n",
       "0             84  12\n",
       "1              1   4"
      ]
     },
     "execution_count": 81,
     "metadata": {},
     "output_type": "execute_result"
    }
   ],
   "source": [
    "confusion_matrix"
   ]
  },
  {
   "cell_type": "markdown",
   "metadata": {
    "slideshow": {
     "slide_type": "fragment"
    }
   },
   "source": [
    "* With these predictions, the specificity is $82/84 \\approx 98\\%$. "
   ]
  },
  {
   "cell_type": "markdown",
   "metadata": {
    "slideshow": {
     "slide_type": "slide"
    }
   },
   "source": [
    "# False positive/negatives vs. sensitivity/specificity\n",
    "\n",
    "* Imagine you're getting a medical test. A value of 1 indicates that the test believes you have the disease.\n",
    "\n",
    "\n",
    "* From the patient's perspective:\n",
    "    * \"What are the chances the test thinks I don't have the disease but I actually do?\" (**false negative rate**)\n",
    "    * \"What are the chances the test thinks I have the disease but I actually don't?\" (**false positive rate**)\n",
    "    \n",
    "    \n",
    "* From the doctor's perspective:\n",
    "    * \"What are the chances the test detects the disease given the patient has the disease?\" (**sensitivity**)\n",
    "    * \"What are the chances the test does not detect the disease given the patient does not have the disease?\" (**specificity**)\n",
    "    "
   ]
  },
  {
   "cell_type": "markdown",
   "metadata": {
    "collapsed": true,
    "slideshow": {
     "slide_type": "slide"
    }
   },
   "source": [
    "# Normalization and standardization\n",
    "\n",
    "\n",
    "* We can run into problems when using distances across different ranges to make predictions.\n",
    "\n",
    "\n",
    "* Imagine a case in which we have just two predictors: one with range [0,1] and the other with [0,10]. \n",
    "\n",
    "\n",
    "* We might plot two data points like this:\n",
    "![alt text](https://www.dropbox.com/s/tv99m1gm7s3uzrh/distance_unscaled.png?raw=1)"
   ]
  },
  {
   "cell_type": "markdown",
   "metadata": {
    "slideshow": {
     "slide_type": "slide"
    }
   },
   "source": [
    "# Normalization and standardization\n",
    "\n",
    "* But if we were to plot everything to scale, the two points would look something like this:\n",
    "\n",
    "![alt text](https://www.dropbox.com/s/dxns8lz8uk5502u/distance_scaled.png?raw=1)\n",
    "\n",
    "\n",
    "* The distance between the two data points is almost completely determined by their separation in the horizontal direction, that is, by their difference in the variable with the larger range.\n",
    "\n",
    "\n",
    "* In order to give every variable a chance to contribute to our predictions, we some how need to equalize their strengths.\n",
    "\n",
    "\n",
    "* There are two many ways to do this: normalization and standardization."
   ]
  },
  {
   "cell_type": "markdown",
   "metadata": {
    "slideshow": {
     "slide_type": "slide"
    }
   },
   "source": [
    "# Normalization and standardization\n",
    "\n",
    "* In normalization, we put every variable on the same scale, say [0,1]:\n",
    "\n",
    "$$\\tilde{X} = \\frac{X - \\min(X)}{\\max(X) - \\min(X)}.$$\n",
    "\n",
    "* A value of $\\tilde{X} = 0$ corresponds to $X$ being at its minimum; a value of $\\tilde{X} = 1$ corresponds to $X$ being at its maximum.\n",
    "\n",
    "\n",
    "\n",
    "* In standardization, we convert each observation into a $t$-score:\n",
    "\n",
    "$$\\tilde{X} = \\frac{X - \\bar{X}}{s_X},$$\n",
    "\n",
    "where $\\bar{X}$ is the sample mean and $s_X$ is the sample standard deviation.\n",
    "\n",
    "\n",
    "\n",
    "* If $\\tilde{X} = -1$, then $X$ was one standard deviation below the mean. \n"
   ]
  },
  {
   "cell_type": "markdown",
   "metadata": {
    "slideshow": {
     "slide_type": "slide"
    }
   },
   "source": [
    "# Normalization and standardization\n",
    "\n",
    "* We can implement both normalization and standardization easily using `pandas`.\n",
    "\n",
    "\n",
    "* **Note: we do not want to normalize/standardize the target, so we perform the operation to the train and test data frames from which the target has been removed!**\n"
   ]
  },
  {
   "cell_type": "code",
   "execution_count": 112,
   "metadata": {
    "collapsed": false,
    "slideshow": {
     "slide_type": "fragment"
    }
   },
   "outputs": [],
   "source": [
    "train_normalized = (train - train.min())/(train.max() - train.min())\n",
    "test_normalized = (test - test.min())/(test.max() - test.min())\n",
    "\n",
    "train_standardized = (train - train.mean())/train.std()\n",
    "test_standardized = (test - test.mean())/test.std()"
   ]
  },
  {
   "cell_type": "markdown",
   "metadata": {
    "slideshow": {
     "slide_type": "slide"
    }
   },
   "source": [
    "# Normalization and standardization\n",
    "\n",
    "* We could also perform the same operations using `sklearn`.\n",
    "\n",
    "\n",
    "* (This is a little less clear, but can be more powerful when using `sklearn`'s `Pipeline` feature.)"
   ]
  },
  {
   "cell_type": "code",
   "execution_count": 116,
   "metadata": {
    "collapsed": true,
    "slideshow": {
     "slide_type": "fragment"
    }
   },
   "outputs": [],
   "source": [
    "from sklearn import preprocessing\n",
    "\n",
    "normalizer = preprocessing.MinMaxScaler()\n",
    "train_normalized = normalizer.fit_transform(train)\n",
    "test_normalized = normalizer.fit_transform(test)\n",
    "\n",
    "standardizer = preprocessing.StandardScaler()\n",
    "train_standardized = standardizer.fit_transform(train)\n",
    "test_standardized = standardizer.fit_transform(test)\n"
   ]
  },
  {
   "cell_type": "markdown",
   "metadata": {
    "slideshow": {
     "slide_type": "slide"
    }
   },
   "source": [
    "# Normalization and standardization\n",
    "\n",
    "* After we have our transformed data, we can build our models as we normally would."
   ]
  },
  {
   "cell_type": "code",
   "execution_count": 119,
   "metadata": {
    "collapsed": false,
    "slideshow": {
     "slide_type": "fragment"
    }
   },
   "outputs": [
    {
     "name": "stdout",
     "output_type": "stream",
     "text": [
      "Error rate (normalized):  0.0891089108911\n"
     ]
    }
   ],
   "source": [
    "model_normalized = neighbors.KNeighborsClassifier(n_neighbors=15)\n",
    "model_normalized.fit(train_normalized,trainTarget)\n",
    "predictions_normalized = model_normalized.predict(test_normalized)\n",
    "\n",
    "error_rate_normalized = sum(predictions_normalized != testTarget)/len(predictions_normalized)\n",
    "print('Error rate (normalized): ', error_rate_normalized)"
   ]
  },
  {
   "cell_type": "code",
   "execution_count": 120,
   "metadata": {
    "collapsed": false,
    "slideshow": {
     "slide_type": "fragment"
    }
   },
   "outputs": [
    {
     "name": "stdout",
     "output_type": "stream",
     "text": [
      "Error rate (standardized):  0.148514851485\n"
     ]
    }
   ],
   "source": [
    "model_standardized = neighbors.KNeighborsClassifier(n_neighbors=15)\n",
    "model_standardized.fit(train_standardized,trainTarget)\n",
    "predictions_standardized = model_scaled.predict(test_standardized)\n",
    "\n",
    "error_rate_standardized = sum(predictions_standardized != testTarget)/len(predictions_standardized)\n",
    "print('Error rate (standardized): ', error_rate_standardized)"
   ]
  },
  {
   "cell_type": "code",
   "execution_count": null,
   "metadata": {
    "collapsed": true
   },
   "outputs": [],
   "source": []
  },
  {
   "cell_type": "code",
   "execution_count": null,
   "metadata": {
    "collapsed": true
   },
   "outputs": [],
   "source": []
  }
 ],
 "metadata": {
  "anaconda-cloud": {},
  "celltoolbar": "Slideshow",
  "kernelspec": {
   "display_name": "Python [default]",
   "language": "python",
   "name": "python3"
  },
  "language_info": {
   "codemirror_mode": {
    "name": "ipython",
    "version": 3
   },
   "file_extension": ".py",
   "mimetype": "text/x-python",
   "name": "python",
   "nbconvert_exporter": "python",
   "pygments_lexer": "ipython3",
   "version": "3.5.2"
  }
 },
 "nbformat": 4,
 "nbformat_minor": 1
}
